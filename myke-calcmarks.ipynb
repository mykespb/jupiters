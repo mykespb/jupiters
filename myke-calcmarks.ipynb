{
 "cells": [
  {
   "cell_type": "markdown",
   "metadata": {},
   "source": [
    "# Оценки тестирования по результатам"
   ]
  },
  {
   "cell_type": "markdown",
   "metadata": {},
   "source": [
    "## Описание\n",
    "\n",
    "Пусть есть тест с известными правильными ответами и диапазонами ответов на каждый вопрос. \n",
    "\n",
    "Для определённости возьмём возможные ответы как 0 или 1.\n",
    "\n",
    "Сложность каждого задания заранее не известна. \n",
    "\n",
    "### Нам нужно\n",
    "\n",
    "* определить относительную сложность каждого задания исходя из того, сколько участников правильно ответили на него\n",
    "* рассчитать баллы каждого участника и его место в рейтинге исходя из полученных выше оценок сложности заданий.\n"
   ]
  },
  {
   "cell_type": "code",
   "execution_count": 77,
   "metadata": {
    "collapsed": false
   },
   "outputs": [],
   "source": [
    "%matplotlib inline\n",
    "import math\n",
    "import matplotlib.pyplot as plt\n",
    "import numpy as np"
   ]
  },
  {
   "cell_type": "markdown",
   "metadata": {},
   "source": [
    "__Данные__"
   ]
  },
  {
   "cell_type": "code",
   "execution_count": 42,
   "metadata": {
    "collapsed": false
   },
   "outputs": [
    {
     "data": {
      "text/plain": [
       "(1, 1, 0, 1, 0, 1, 1, 1, 0, 0, 0, 1)"
      ]
     },
     "execution_count": 42,
     "metadata": {},
     "output_type": "execute_result"
    }
   ],
   "source": [
    "# правильные ответы заданий\n",
    "good = 1, 1, 0, 1, 0, 1, 1, 1, 0, 0, 0, 1\n",
    "good"
   ]
  },
  {
   "cell_type": "code",
   "execution_count": 70,
   "metadata": {
    "collapsed": false
   },
   "outputs": [
    {
     "data": {
      "text/plain": [
       "((0, 1, 0, 1, 1, 1, 1, 0, 0, 0, 0, 1),\n",
       " (0, 1, 0, 1, 1, 1, 1, 1, 1, 1, 1, 1),\n",
       " (0, 0, 1, 1, 1, 1, 1, 1, 0, 0, 0, 0),\n",
       " (1, 1, 1, 0, 0, 1, 1, 1, 1, 0, 0, 0),\n",
       " (0, 1, 1, 1, 0, 0, 0, 1, 0, 0, 0, 0))"
      ]
     },
     "execution_count": 70,
     "metadata": {},
     "output_type": "execute_result"
    }
   ],
   "source": [
    "# полученные ответы от участников, построчно\n",
    "gots = ((0, 1, 0, 1, 1, 1, 1, 0, 0, 0, 0, 1), \n",
    "        (0, 1, 0, 1, 1, 1, 1, 1, 1, 1, 1, 1),\n",
    "        (0, 0, 1, 1, 1, 1, 1, 1, 0, 0, 0, 0),\n",
    "        (1, 1, 1, 0, 0, 1, 1, 1, 1, 0, 0, 0),\n",
    "        (0, 1, 1, 1, 0, 0, 0, 1, 0, 0, 0, 0))\n",
    "gots"
   ]
  },
  {
   "cell_type": "markdown",
   "metadata": {},
   "source": [
    "__Расчёты__"
   ]
  },
  {
   "cell_type": "code",
   "execution_count": 58,
   "metadata": {
    "collapsed": false
   },
   "outputs": [
    {
     "data": {
      "text/plain": [
       "[[0, 1, 1, 1, 0, 1, 1, 0, 1, 1, 1, 1],\n",
       " [0, 1, 1, 1, 0, 1, 1, 1, 0, 0, 0, 1],\n",
       " [0, 0, 0, 1, 0, 1, 1, 1, 1, 1, 1, 0],\n",
       " [1, 1, 0, 0, 1, 1, 1, 1, 0, 1, 1, 0],\n",
       " [0, 1, 0, 1, 1, 0, 0, 1, 1, 1, 1, 0]]"
      ]
     },
     "execution_count": 58,
     "metadata": {},
     "output_type": "execute_result"
    }
   ],
   "source": [
    "# Расчёт правильности ответов\n",
    "corr = [[1 if rep[i] == good[i] else 0 for i in xrange(len(good))] for rep in gots]\n",
    "corr"
   ]
  },
  {
   "cell_type": "code",
   "execution_count": 59,
   "metadata": {
    "collapsed": false
   },
   "outputs": [
    {
     "data": {
      "text/plain": [
       "[1, 4, 2, 4, 2, 4, 4, 4, 3, 4, 4, 2]"
      ]
     },
     "execution_count": 59,
     "metadata": {},
     "output_type": "execute_result"
    }
   ],
   "source": [
    "# число правильных ответов для каждого вопроса\n",
    "corrbyn = [0 for i in xrange(len(good))]\n",
    "for v in corr:\n",
    "    for a in xrange(len(good)):\n",
    "        corrbyn[a] += v[a]\n",
    "corrbyn"
   ]
  },
  {
   "cell_type": "code",
   "execution_count": 60,
   "metadata": {
    "collapsed": false
   },
   "outputs": [
    {
     "data": {
      "text/plain": [
       "[4, 1, 3, 1, 3, 1, 1, 1, 2, 1, 1, 3]"
      ]
     },
     "execution_count": 60,
     "metadata": {},
     "output_type": "execute_result"
    }
   ],
   "source": [
    "# пусть ценности ответов равны, ценности вопросов обратно пропорциональны числу правильно на них ответивших\n",
    "# рассчитаем ценность каждого вопроса\n",
    "ngots = len(gots)\n",
    "qual = [ngots - x for x in corrbyn]\n",
    "qual"
   ]
  },
  {
   "cell_type": "code",
   "execution_count": 61,
   "metadata": {
    "collapsed": false
   },
   "outputs": [
    {
     "data": {
      "text/plain": [
       "[[0, 1, 3, 1, 0, 1, 1, 0, 2, 1, 1, 3],\n",
       " [0, 1, 3, 1, 0, 1, 1, 1, 0, 0, 0, 3],\n",
       " [0, 0, 0, 1, 0, 1, 1, 1, 2, 1, 1, 0],\n",
       " [4, 1, 0, 0, 3, 1, 1, 1, 0, 1, 1, 0],\n",
       " [0, 1, 0, 1, 3, 0, 0, 1, 2, 1, 1, 0]]"
      ]
     },
     "execution_count": 61,
     "metadata": {},
     "output_type": "execute_result"
    }
   ],
   "source": [
    "# уточнённые ответы с ценностями\n",
    "corq = [[v[i] * qual[i]  for i in xrange(len(v))] for v in corr]\n",
    "corq"
   ]
  },
  {
   "cell_type": "code",
   "execution_count": 76,
   "metadata": {
    "collapsed": false
   },
   "outputs": [
    {
     "data": {
      "text/plain": [
       "[14, 11, 8, 13, 10]"
      ]
     },
     "execution_count": 76,
     "metadata": {},
     "output_type": "execute_result"
    }
   ],
   "source": [
    "# суммы баллов каждого участников\n",
    "balls = [sum(v) for v in corq]\n",
    "balls"
   ]
  },
  {
   "cell_type": "code",
   "execution_count": 63,
   "metadata": {
    "collapsed": false
   },
   "outputs": [
    {
     "data": {
      "text/plain": [
       "[(0, 14), (3, 13), (1, 11), (4, 10), (2, 8)]"
      ]
     },
     "execution_count": 63,
     "metadata": {},
     "output_type": "execute_result"
    }
   ],
   "source": [
    "# победители, отсортированно\n",
    "wins = sorted(list(enumerate(balls)), key=lambda x: x[1], reverse=True)\n",
    "wins"
   ]
  },
  {
   "cell_type": "markdown",
   "metadata": {},
   "source": [
    "__Результаты__"
   ]
  },
  {
   "cell_type": "code",
   "execution_count": 69,
   "metadata": {
    "collapsed": false
   },
   "outputs": [
    {
     "name": "stdout",
     "output_type": "stream",
     "text": [
      "\n",
      "Таким образом, победил участник № 1 с 14 баллами, затем участник № 4 с 13 баллами, и т.д.\n",
      "\n"
     ]
    }
   ],
   "source": [
    "print \"\\nТаким образом, победил участник №\", wins[0][0]+1, \"с\", wins[0][1], \"баллами, затем участник №\", wins[1][0]+1, \"с\", wins[1][1], \"баллами, и т.д.\\n\""
   ]
  },
  {
   "cell_type": "code",
   "execution_count": 75,
   "metadata": {
    "collapsed": false
   },
   "outputs": [
    {
     "name": "stdout",
     "output_type": "stream",
     "text": [
      "место  1 -- участник  1, баллы:  14\n",
      "место  2 -- участник  4, баллы:  13\n",
      "место  3 -- участник  2, баллы:  11\n",
      "место  4 -- участник  5, баллы:  10\n",
      "место  5 -- участник  3, баллы:   8\n"
     ]
    }
   ],
   "source": [
    "# расстановка по местам\n",
    "for i, u in enumerate(wins):\n",
    "    print \"место %2d -- участник %2d, баллы: %3d\" % (i+1, u[0]+1, u[1])"
   ]
  },
  {
   "cell_type": "code",
   "execution_count": 105,
   "metadata": {
    "collapsed": false
   },
   "outputs": [
    {
     "data": {
      "text/plain": [
       "<Container object of 5 artists>"
      ]
     },
     "execution_count": 105,
     "metadata": {},
     "output_type": "execute_result"
    },
    {
     "data": {
      "image/png": "[encoded data removed]",
      "text/plain": [
       "<matplotlib.figure.Figure at 0x7f659c2f2f90>"
      ]
     },
     "metadata": {},
     "output_type": "display_data"
    }
   ],
   "source": [
    "plt.bar(range(len(balls)), balls)"
   ]
  },
  {
   "cell_type": "code",
   "execution_count": null,
   "metadata": {
    "collapsed": false
   },
   "outputs": [],
   "source": []
  }
 ],
 "metadata": {
  "kernelspec": {
   "display_name": "Python 3",
   "language": "python",
   "name": "python3"
  },
  "language_info": {
   "codemirror_mode": {
    "name": "ipython",
    "version": 3
   },
   "file_extension": ".py",
   "mimetype": "text/x-python",
   "name": "python",
   "nbconvert_exporter": "python",
   "pygments_lexer": "ipython3",
   "version": "3.4.3"
  }
 },
 "nbformat": 4,
 "nbformat_minor": 0
}
