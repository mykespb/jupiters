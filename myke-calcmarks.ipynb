{
 "metadata": {
  "name": "",
  "signature": "sha256:77145273e8f122e9ad5dbf25ffd346140c18721c4cc160e5e8920d91b08899f9"
 },
 "nbformat": 3,
 "nbformat_minor": 0,
 "worksheets": [
  {
   "cells": [
    {
     "cell_type": "heading",
     "level": 1,
     "metadata": {},
     "source": [
      "\u041e\u0446\u0435\u043d\u043a\u0438 \u0442\u0435\u0441\u0442\u0438\u0440\u043e\u0432\u0430\u043d\u0438\u044f \u043f\u043e \u0440\u0435\u0437\u0443\u043b\u044c\u0442\u0430\u0442\u0430\u043c\n"
     ]
    },
    {
     "cell_type": "markdown",
     "metadata": {},
     "source": [
      "## \u041e\u043f\u0438\u0441\u0430\u043d\u0438\u0435\n",
      "\n",
      "\u041f\u0443\u0441\u0442\u044c \u0435\u0441\u0442\u044c \u0442\u0435\u0441\u0442 \u0441 \u0438\u0437\u0432\u0435\u0441\u0442\u043d\u044b\u043c\u0438 \u043f\u0440\u0430\u0432\u0438\u043b\u044c\u043d\u044b\u043c\u0438 \u043e\u0442\u0432\u0435\u0442\u0430\u043c\u0438 \u0438 \u0434\u0438\u0430\u043f\u0430\u0437\u043e\u043d\u0430\u043c\u0438 \u043e\u0442\u0432\u0435\u0442\u043e\u0432 \u043d\u0430 \u043a\u0430\u0436\u0434\u044b\u0439 \u0432\u043e\u043f\u0440\u043e\u0441. \n",
      "\n",
      "\u0414\u043b\u044f \u043e\u043f\u0440\u0435\u0434\u0435\u043b\u0451\u043d\u043d\u043e\u0441\u0442\u0438 \u0432\u043e\u0437\u044c\u043c\u0451\u043c \u0432\u043e\u0437\u043c\u043e\u0436\u043d\u044b\u0435 \u043e\u0442\u0432\u0435\u0442\u044b \u043a\u0430\u043a 0 \u0438\u043b\u0438 1.\n",
      "\n",
      "\u0421\u043b\u043e\u0436\u043d\u043e\u0441\u0442\u044c \u043a\u0430\u0436\u0434\u043e\u0433\u043e \u0437\u0430\u0434\u0430\u043d\u0438\u044f \u0437\u0430\u0440\u0430\u043d\u0435\u0435 \u043d\u0435 \u0438\u0437\u0432\u0435\u0441\u0442\u043d\u0430. \n",
      "\n",
      "### \u041d\u0430\u043c \u043d\u0443\u0436\u043d\u043e\n",
      "\n",
      "* \u043e\u043f\u0440\u0435\u0434\u0435\u043b\u0438\u0442\u044c \u043e\u0442\u043d\u043e\u0441\u0438\u0442\u0435\u043b\u044c\u043d\u0443\u044e \u0441\u043b\u043e\u0436\u043d\u043e\u0441\u0442\u044c \u043a\u0430\u0436\u0434\u043e\u0433\u043e \u0437\u0430\u0434\u0430\u043d\u0438\u044f \u0438\u0441\u0445\u043e\u0434\u044f \u0438\u0437 \u0442\u043e\u0433\u043e, \u0441\u043a\u043e\u043b\u044c\u043a\u043e \u0443\u0447\u0430\u0441\u0442\u043d\u0438\u043a\u043e\u0432 \u043f\u0440\u0430\u0432\u0438\u043b\u044c\u043d\u043e \u043e\u0442\u0432\u0435\u0442\u0438\u043b\u0438 \u043d\u0430 \u043d\u0435\u0433\u043e\n",
      "* \u0440\u0430\u0441\u0441\u0447\u0438\u0442\u0430\u0442\u044c \u0431\u0430\u043b\u043b\u044b \u043a\u0430\u0436\u0434\u043e\u0433\u043e \u0443\u0447\u0430\u0441\u0442\u043d\u0438\u043a\u0430 \u0438 \u0435\u0433\u043e \u043c\u0435\u0441\u0442\u043e \u0432 \u0440\u0435\u0439\u0442\u0438\u043d\u0433\u0435 \u0438\u0441\u0445\u043e\u0434\u044f \u0438\u0437 \u043f\u043e\u043b\u0443\u0447\u0435\u043d\u043d\u044b\u0445 \u0432\u044b\u0448\u0435 \u043e\u0446\u0435\u043d\u043e\u043a \u0441\u043b\u043e\u0436\u043d\u043e\u0441\u0442\u0438 \u0437\u0430\u0434\u0430\u043d\u0438\u0439.\n"
     ]
    },
    {
     "cell_type": "code",
     "collapsed": false,
     "input": [
      "%matplotlib inline\n",
      "import math\n",
      "import matplotlib.pyplot as plt\n",
      "import numpy as np"
     ],
     "language": "python",
     "metadata": {},
     "outputs": [],
     "prompt_number": 77
    },
    {
     "cell_type": "markdown",
     "metadata": {},
     "source": [
      "__\u0414\u0430\u043d\u043d\u044b\u0435__"
     ]
    },
    {
     "cell_type": "code",
     "collapsed": false,
     "input": [
      "# \u043f\u0440\u0430\u0432\u0438\u043b\u044c\u043d\u044b\u0435 \u043e\u0442\u0432\u0435\u0442\u044b \u0437\u0430\u0434\u0430\u043d\u0438\u0439\n",
      "good = 1, 1, 0, 1, 0, 1, 1, 1, 0, 0, 0, 1\n",
      "good"
     ],
     "language": "python",
     "metadata": {},
     "outputs": [
      {
       "metadata": {},
       "output_type": "pyout",
       "prompt_number": 42,
       "text": [
        "(1, 1, 0, 1, 0, 1, 1, 1, 0, 0, 0, 1)"
       ]
      }
     ],
     "prompt_number": 42
    },
    {
     "cell_type": "code",
     "collapsed": false,
     "input": [
      "# \u043f\u043e\u043b\u0443\u0447\u0435\u043d\u043d\u044b\u0435 \u043e\u0442\u0432\u0435\u0442\u044b \u043e\u0442 \u0443\u0447\u0430\u0441\u0442\u043d\u0438\u043a\u043e\u0432, \u043f\u043e\u0441\u0442\u0440\u043e\u0447\u043d\u043e\n",
      "gots = ((0, 1, 0, 1, 1, 1, 1, 0, 0, 0, 0, 1), \n",
      "        (0, 1, 0, 1, 1, 1, 1, 1, 1, 1, 1, 1),\n",
      "        (0, 0, 1, 1, 1, 1, 1, 1, 0, 0, 0, 0),\n",
      "        (1, 1, 1, 0, 0, 1, 1, 1, 1, 0, 0, 0),\n",
      "        (0, 1, 1, 1, 0, 0, 0, 1, 0, 0, 0, 0))\n",
      "gots"
     ],
     "language": "python",
     "metadata": {},
     "outputs": [
      {
       "metadata": {},
       "output_type": "pyout",
       "prompt_number": 70,
       "text": [
        "((0, 1, 0, 1, 1, 1, 1, 0, 0, 0, 0, 1),\n",
        " (0, 1, 0, 1, 1, 1, 1, 1, 1, 1, 1, 1),\n",
        " (0, 0, 1, 1, 1, 1, 1, 1, 0, 0, 0, 0),\n",
        " (1, 1, 1, 0, 0, 1, 1, 1, 1, 0, 0, 0),\n",
        " (0, 1, 1, 1, 0, 0, 0, 1, 0, 0, 0, 0))"
       ]
      }
     ],
     "prompt_number": 70
    },
    {
     "cell_type": "markdown",
     "metadata": {},
     "source": [
      "__\u0420\u0430\u0441\u0447\u0451\u0442\u044b__"
     ]
    },
    {
     "cell_type": "code",
     "collapsed": false,
     "input": [
      "# \u0420\u0430\u0441\u0447\u0451\u0442 \u043f\u0440\u0430\u0432\u0438\u043b\u044c\u043d\u043e\u0441\u0442\u0438 \u043e\u0442\u0432\u0435\u0442\u043e\u0432\n",
      "corr = [[1 if rep[i] == good[i] else 0 for i in xrange(len(good))] for rep in gots]\n",
      "corr"
     ],
     "language": "python",
     "metadata": {},
     "outputs": [
      {
       "metadata": {},
       "output_type": "pyout",
       "prompt_number": 58,
       "text": [
        "[[0, 1, 1, 1, 0, 1, 1, 0, 1, 1, 1, 1],\n",
        " [0, 1, 1, 1, 0, 1, 1, 1, 0, 0, 0, 1],\n",
        " [0, 0, 0, 1, 0, 1, 1, 1, 1, 1, 1, 0],\n",
        " [1, 1, 0, 0, 1, 1, 1, 1, 0, 1, 1, 0],\n",
        " [0, 1, 0, 1, 1, 0, 0, 1, 1, 1, 1, 0]]"
       ]
      }
     ],
     "prompt_number": 58
    },
    {
     "cell_type": "code",
     "collapsed": false,
     "input": [
      "# \u0447\u0438\u0441\u043b\u043e \u043f\u0440\u0430\u0432\u0438\u043b\u044c\u043d\u044b\u0445 \u043e\u0442\u0432\u0435\u0442\u043e\u0432 \u0434\u043b\u044f \u043a\u0430\u0436\u0434\u043e\u0433\u043e \u0432\u043e\u043f\u0440\u043e\u0441\u0430\n",
      "corrbyn = [0 for i in xrange(len(good))]\n",
      "for v in corr:\n",
      "    for a in xrange(len(good)):\n",
      "        corrbyn[a] += v[a]\n",
      "corrbyn"
     ],
     "language": "python",
     "metadata": {},
     "outputs": [
      {
       "metadata": {},
       "output_type": "pyout",
       "prompt_number": 59,
       "text": [
        "[1, 4, 2, 4, 2, 4, 4, 4, 3, 4, 4, 2]"
       ]
      }
     ],
     "prompt_number": 59
    },
    {
     "cell_type": "code",
     "collapsed": false,
     "input": [
      "# \u043f\u0443\u0441\u0442\u044c \u0446\u0435\u043d\u043d\u043e\u0441\u0442\u0438 \u043e\u0442\u0432\u0435\u0442\u043e\u0432 \u0440\u0430\u0432\u043d\u044b, \u0446\u0435\u043d\u043d\u043e\u0441\u0442\u0438 \u0432\u043e\u043f\u0440\u043e\u0441\u043e\u0432 \u043e\u0431\u0440\u0430\u0442\u043d\u043e \u043f\u0440\u043e\u043f\u043e\u0440\u0446\u0438\u043e\u043d\u0430\u043b\u044c\u043d\u044b \u0447\u0438\u0441\u043b\u0443 \u043f\u0440\u0430\u0432\u0438\u043b\u044c\u043d\u043e \u043d\u0430 \u043d\u0438\u0445 \u043e\u0442\u0432\u0435\u0442\u0438\u0432\u0448\u0438\u0445\n",
      "# \u0440\u0430\u0441\u0441\u0447\u0438\u0442\u0430\u0435\u043c \u0446\u0435\u043d\u043d\u043e\u0441\u0442\u044c \u043a\u0430\u0436\u0434\u043e\u0433\u043e \u0432\u043e\u043f\u0440\u043e\u0441\u0430\n",
      "ngots = len(gots)\n",
      "qual = [ngots - x for x in corrbyn]\n",
      "qual"
     ],
     "language": "python",
     "metadata": {},
     "outputs": [
      {
       "metadata": {},
       "output_type": "pyout",
       "prompt_number": 60,
       "text": [
        "[4, 1, 3, 1, 3, 1, 1, 1, 2, 1, 1, 3]"
       ]
      }
     ],
     "prompt_number": 60
    },
    {
     "cell_type": "code",
     "collapsed": false,
     "input": [
      "# \u0443\u0442\u043e\u0447\u043d\u0451\u043d\u043d\u044b\u0435 \u043e\u0442\u0432\u0435\u0442\u044b \u0441 \u0446\u0435\u043d\u043d\u043e\u0441\u0442\u044f\u043c\u0438\n",
      "corq = [[v[i] * qual[i]  for i in xrange(len(v))] for v in corr]\n",
      "corq"
     ],
     "language": "python",
     "metadata": {},
     "outputs": [
      {
       "metadata": {},
       "output_type": "pyout",
       "prompt_number": 61,
       "text": [
        "[[0, 1, 3, 1, 0, 1, 1, 0, 2, 1, 1, 3],\n",
        " [0, 1, 3, 1, 0, 1, 1, 1, 0, 0, 0, 3],\n",
        " [0, 0, 0, 1, 0, 1, 1, 1, 2, 1, 1, 0],\n",
        " [4, 1, 0, 0, 3, 1, 1, 1, 0, 1, 1, 0],\n",
        " [0, 1, 0, 1, 3, 0, 0, 1, 2, 1, 1, 0]]"
       ]
      }
     ],
     "prompt_number": 61
    },
    {
     "cell_type": "code",
     "collapsed": false,
     "input": [
      "# \u0441\u0443\u043c\u043c\u044b \u0431\u0430\u043b\u043b\u043e\u0432 \u043a\u0430\u0436\u0434\u043e\u0433\u043e \u0443\u0447\u0430\u0441\u0442\u043d\u0438\u043a\u043e\u0432\n",
      "balls = [sum(v) for v in corq]\n",
      "balls"
     ],
     "language": "python",
     "metadata": {},
     "outputs": [
      {
       "metadata": {},
       "output_type": "pyout",
       "prompt_number": 76,
       "text": [
        "[14, 11, 8, 13, 10]"
       ]
      }
     ],
     "prompt_number": 76
    },
    {
     "cell_type": "code",
     "collapsed": false,
     "input": [
      "# \u043f\u043e\u0431\u0435\u0434\u0438\u0442\u0435\u043b\u0438, \u043e\u0442\u0441\u043e\u0440\u0442\u0438\u0440\u043e\u0432\u0430\u043d\u043d\u043e\n",
      "wins = sorted(list(enumerate(balls)), key=lambda x: x[1], reverse=True)\n",
      "wins"
     ],
     "language": "python",
     "metadata": {},
     "outputs": [
      {
       "metadata": {},
       "output_type": "pyout",
       "prompt_number": 63,
       "text": [
        "[(0, 14), (3, 13), (1, 11), (4, 10), (2, 8)]"
       ]
      }
     ],
     "prompt_number": 63
    },
    {
     "cell_type": "markdown",
     "metadata": {},
     "source": [
      "__\u0420\u0435\u0437\u0443\u043b\u044c\u0442\u0430\u0442\u044b__"
     ]
    },
    {
     "cell_type": "code",
     "collapsed": false,
     "input": [
      "print \"\\n\u0422\u0430\u043a\u0438\u043c \u043e\u0431\u0440\u0430\u0437\u043e\u043c, \u043f\u043e\u0431\u0435\u0434\u0438\u043b \u0443\u0447\u0430\u0441\u0442\u043d\u0438\u043a \u2116\", wins[0][0]+1, \"\u0441\", wins[0][1], \"\u0431\u0430\u043b\u043b\u0430\u043c\u0438, \u0437\u0430\u0442\u0435\u043c \u0443\u0447\u0430\u0441\u0442\u043d\u0438\u043a \u2116\", wins[1][0]+1, \"\u0441\", wins[1][1], \"\u0431\u0430\u043b\u043b\u0430\u043c\u0438, \u0438 \u0442.\u0434.\\n\""
     ],
     "language": "python",
     "metadata": {},
     "outputs": [
      {
       "output_type": "stream",
       "stream": "stdout",
       "text": [
        "\n",
        "\u0422\u0430\u043a\u0438\u043c \u043e\u0431\u0440\u0430\u0437\u043e\u043c, \u043f\u043e\u0431\u0435\u0434\u0438\u043b \u0443\u0447\u0430\u0441\u0442\u043d\u0438\u043a \u2116 1 \u0441 14 \u0431\u0430\u043b\u043b\u0430\u043c\u0438, \u0437\u0430\u0442\u0435\u043c \u0443\u0447\u0430\u0441\u0442\u043d\u0438\u043a \u2116 4 \u0441 13 \u0431\u0430\u043b\u043b\u0430\u043c\u0438, \u0438 \u0442.\u0434.\n",
        "\n"
       ]
      }
     ],
     "prompt_number": 69
    },
    {
     "cell_type": "code",
     "collapsed": false,
     "input": [
      "# \u0440\u0430\u0441\u0441\u0442\u0430\u043d\u043e\u0432\u043a\u0430 \u043f\u043e \u043c\u0435\u0441\u0442\u0430\u043c\n",
      "for i, u in enumerate(wins):\n",
      "    print \"\u043c\u0435\u0441\u0442\u043e %2d -- \u0443\u0447\u0430\u0441\u0442\u043d\u0438\u043a %2d, \u0431\u0430\u043b\u043b\u044b: %3d\" % (i+1, u[0]+1, u[1])"
     ],
     "language": "python",
     "metadata": {},
     "outputs": [
      {
       "output_type": "stream",
       "stream": "stdout",
       "text": [
        "\u043c\u0435\u0441\u0442\u043e  1 -- \u0443\u0447\u0430\u0441\u0442\u043d\u0438\u043a  1, \u0431\u0430\u043b\u043b\u044b:  14\n",
        "\u043c\u0435\u0441\u0442\u043e  2 -- \u0443\u0447\u0430\u0441\u0442\u043d\u0438\u043a  4, \u0431\u0430\u043b\u043b\u044b:  13\n",
        "\u043c\u0435\u0441\u0442\u043e  3 -- \u0443\u0447\u0430\u0441\u0442\u043d\u0438\u043a  2, \u0431\u0430\u043b\u043b\u044b:  11\n",
        "\u043c\u0435\u0441\u0442\u043e  4 -- \u0443\u0447\u0430\u0441\u0442\u043d\u0438\u043a  5, \u0431\u0430\u043b\u043b\u044b:  10\n",
        "\u043c\u0435\u0441\u0442\u043e  5 -- \u0443\u0447\u0430\u0441\u0442\u043d\u0438\u043a  3, \u0431\u0430\u043b\u043b\u044b:   8\n"
       ]
      }
     ],
     "prompt_number": 75
    },
    {
     "cell_type": "code",
     "collapsed": false,
     "input": [
      "plt.bar(range(len(balls)), balls)"
     ],
     "language": "python",
     "metadata": {},
     "outputs": [
      {
       "metadata": {},
       "output_type": "pyout",
       "prompt_number": 105,
       "text": [
        "<Container object of 5 artists>"
       ]
      },
      {
       "metadata": {},
       "output_type": "display_data",
       "png": "[encoded data removed]",
       "text": [
        "<matplotlib.figure.Figure at 0x7f659c2f2f90>"
       ]
      }
     ],
     "prompt_number": 105
    },
    {
     "cell_type": "code",
     "collapsed": false,
     "input": [],
     "language": "python",
     "metadata": {},
     "outputs": []
    }
   ],
   "metadata": {}
  }
 ]
}