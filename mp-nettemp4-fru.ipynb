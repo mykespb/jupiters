{
 "cells": [
  {
   "cell_type": "markdown",
   "metadata": {},
   "source": [
    "Mikhail Kolodin.\n",
    "\n",
    "Project: Internet temperature. 2015-12-31 1.5.3\n",
    "\n",
    "IPython research for internet temperature. We use now only fontanka.ru website, later other sites and methods will be added.\n",
    "\n",
    "Version with database recording. Now full archive of headers since 2000.\n",
    "\n",
    "Here we count good and bad words in the database. No more downloading info from websites."
   ]
  },
  {
   "cell_type": "code",
   "execution_count": 1,
   "metadata": {
    "collapsed": true
   },
   "outputs": [],
   "source": [
    "import datetime\n",
    "now = datetime.datetime.now()\n",
    "\n",
    "import sqlite3"
   ]
  },
  {
   "cell_type": "code",
   "execution_count": 2,
   "metadata": {
    "collapsed": false
   },
   "outputs": [],
   "source": [
    "#%pylab inline\n",
    "import numpy as np\n",
    "import matplotlib.pyplot as plt\n",
    "import matplotlib.dates as mdates\n",
    "from datetime import datetime, date, time, timedelta\n",
    "from time import gmtime, strftime"
   ]
  },
  {
   "cell_type": "code",
   "execution_count": 44,
   "metadata": {
    "collapsed": true
   },
   "outputs": [],
   "source": [
    "# main db\n",
    "#db = \"mp-nettemp3-fru-2015.db\"\n",
    "#dbcf = \"mp-nettemp3-fru-2015-stat.db\"\n",
    "db = \"mp-nettemp3-fru-2000-2015.db\"\n",
    "dbcf = \"mp-nettemp3-fru-2000-2015-stat.db\"\n",
    "conn = sqlite3.connect(db)\n",
    "cur = conn.cursor()"
   ]
  },
  {
   "cell_type": "code",
   "execution_count": 45,
   "metadata": {
    "collapsed": false
   },
   "outputs": [],
   "source": [
    "# temp db, later - also to main\n",
    "#dbc = sqlite3.connect(\":memory:\")\n",
    "dbc = sqlite3.connect(dbcf)\n",
    "curc = dbc.cursor()"
   ]
  },
  {
   "cell_type": "code",
   "execution_count": 46,
   "metadata": {
    "collapsed": false
   },
   "outputs": [
    {
     "data": {
      "text/plain": [
       "<sqlite3.Cursor at 0x7f78e6b5f340>"
      ]
     },
     "execution_count": 46,
     "metadata": {},
     "output_type": "execute_result"
    }
   ],
   "source": [
    "# calc data per days\n",
    "dbc.execute(\"create table daydata (day text, wpos int, wneg int, mark number)\")"
   ]
  },
  {
   "cell_type": "code",
   "execution_count": 47,
   "metadata": {
    "collapsed": true
   },
   "outputs": [],
   "source": [
    "dbc.commit()"
   ]
  },
  {
   "cell_type": "code",
   "execution_count": 48,
   "metadata": {
    "collapsed": false
   },
   "outputs": [
    {
     "ename": "OperationalError",
     "evalue": "no such column: dtyear",
     "output_type": "error",
     "traceback": [
      "\u001b[1;31m---------------------------------------------------------------------------\u001b[0m",
      "\u001b[1;31mOperationalError\u001b[0m                          Traceback (most recent call last)",
      "\u001b[1;32m<ipython-input-48-182f73e4f441>\u001b[0m in \u001b[0;36m<module>\u001b[1;34m()\u001b[0m\n\u001b[1;32m----> 1\u001b[1;33m \u001b[0mcur\u001b[0m\u001b[1;33m.\u001b[0m\u001b[0mexecute\u001b[0m\u001b[1;33m(\u001b[0m\u001b[1;34m\"select dtyear, sum(wpos), sum(wneg), sum(mark) from netdata group by dtyear\"\u001b[0m\u001b[1;33m)\u001b[0m\u001b[1;33m\u001b[0m\u001b[0m\n\u001b[0m",
      "\u001b[1;31mOperationalError\u001b[0m: no such column: dtyear"
     ]
    }
   ],
   "source": [
    "cur.execute(\"select dtyear, sum(wpos), sum(wneg), sum(mark) from netdata group by dtyear\")"
   ]
  },
  {
   "cell_type": "code",
   "execution_count": null,
   "metadata": {
    "collapsed": true
   },
   "outputs": [],
   "source": [
    "vals = []"
   ]
  },
  {
   "cell_type": "code",
   "execution_count": null,
   "metadata": {
    "collapsed": false
   },
   "outputs": [],
   "source": [
    "for row in cur:\n",
    "#    print (row)\n",
    "    vals += [row]"
   ]
  },
  {
   "cell_type": "code",
   "execution_count": null,
   "metadata": {
    "collapsed": false
   },
   "outputs": [],
   "source": [
    "#print (vals)\n",
    "vdates = []\n",
    "vpos = []\n",
    "vneg = []\n",
    "vmark = []\n",
    "for val in vals:\n",
    "    vdates += [val[0]]\n",
    "    vpos += [val[1]]\n",
    "    vneg += [(-val[2])]\n",
    "    vmark += [val[3]]\n",
    "#print (vdates, vpos, vneg, vmark)"
   ]
  },
  {
   "cell_type": "code",
   "execution_count": null,
   "metadata": {
    "collapsed": false
   },
   "outputs": [],
   "source": [
    "from matplotlib.finance import quotes_historical_yahoo_ochl\n",
    "from matplotlib.dates import YearLocator, MonthLocator, DateFormatter\n",
    "from matplotlib.finance import quotes_historical_yahoo_ochl\n",
    "years = YearLocator()   # every year\n",
    "months = MonthLocator()  # every month\n",
    "yearsFmt = DateFormatter('%Y')\n"
   ]
  },
  {
   "cell_type": "code",
   "execution_count": null,
   "metadata": {
    "collapsed": false
   },
   "outputs": [],
   "source": [
    "x = mdates.drange(datetime.strptime(vdates[0], \"%Y-%m-%d\"), \n",
    "    datetime.strptime(vdates[-1], \"%Y-%m-%d\"), \n",
    "    timedelta(days=1))\n",
    "y = np.array(vmark)\n",
    "#x = [v[0] for v in vdates]\n",
    "#y = [v[0] for v in vdates]\n",
    "x = np.array(range(len(y)))\n",
    "fig = plt.figure()\n",
    "sp = fig.add_subplot(111)\n",
    "sp.plot_date(x, y, '-') \n",
    "#x\n",
    "#y\n",
    "sp.plot(x, y, '-')\n",
    "#sp.title('title')\n",
    "#sp.ylabel('marks')\n",
    "sp.grid(True)\n",
    "#sp.plot_date(vdates, vmark, '-')\n",
    "plt.show()"
   ]
  },
  {
   "cell_type": "code",
   "execution_count": null,
   "metadata": {
    "collapsed": true
   },
   "outputs": [],
   "source": [
    "conn.close()\n",
    "dbc.close()"
   ]
  },
  {
   "cell_type": "code",
   "execution_count": null,
   "metadata": {
    "collapsed": true
   },
   "outputs": [],
   "source": []
  }
 ],
 "metadata": {
  "kernelspec": {
   "display_name": "Python 3",
   "language": "python",
   "name": "python3"
  },
  "language_info": {
   "codemirror_mode": {
    "name": "ipython",
    "version": 3
   },
   "file_extension": ".py",
   "mimetype": "text/x-python",
   "name": "python",
   "nbconvert_exporter": "python",
   "pygments_lexer": "ipython3",
   "version": "3.5.1"
  }
 },
 "nbformat": 4,
 "nbformat_minor": 0
}
