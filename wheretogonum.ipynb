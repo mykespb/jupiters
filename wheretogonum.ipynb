{
 "cells": [
  {
   "cell_type": "markdown",
   "metadata": {},
   "source": [
    "WhereToGoNum by myke, 2016-02-15 2016-02-15 1.1\n",
    "\n",
    "Test many countries on many parameters"
   ]
  },
  {
   "cell_type": "code",
   "execution_count": 14,
   "metadata": {
    "collapsed": true
   },
   "outputs": [],
   "source": [
    "# all imports\n",
    "import csv\n",
    "import numpy as np"
   ]
  },
  {
   "cell_type": "code",
   "execution_count": 5,
   "metadata": {
    "collapsed": true
   },
   "outputs": [],
   "source": [
    "# all data\n",
    "tsvdata = \"wheretogonum.tsv\""
   ]
  },
  {
   "cell_type": "code",
   "execution_count": 30,
   "metadata": {
    "collapsed": false
   },
   "outputs": [],
   "source": [
    "# read data\n",
    "with open(tsvdata) as tsv:\n",
    "    tsvr = csv.reader(tsv, delimiter=\"\\t\")\n",
    "    tab = list(tsvr)\n",
    "    head = np.array(tab[:2])\n",
    "    data = np.array(tab[3:])\n",
    "    mul  = np.array(tab[2])\n",
    "    del tab"
   ]
  },
  {
   "cell_type": "code",
   "execution_count": 31,
   "metadata": {
    "collapsed": false
   },
   "outputs": [
    {
     "name": "stdout",
     "output_type": "stream",
     "text": [
      "[['land' 'place' 'code' 'place' 'markdig' 'markest' 'status-soon'\n",
      "  'status-later' 'available' 'politics' 'economy' 'future' 'work' 'prices'\n",
      "  'currency' 'family' 'culture' 'society' 'educatuion' 'activity' 'world'\n",
      "  'transport' 'nature' 'languages']\n",
      " ['страна' 'место' 'код' 'место' 'оценка_взвеш' 'оценка_общая'\n",
      "  'статус_скоро' 'статус_потом' 'доступность' 'политика' 'экономика'\n",
      "  'перспективы' 'работа' 'цены' 'валюта' 'семья' 'культура' 'общество'\n",
      "  'образование' 'активность' 'мир' 'транспорт' 'природа' 'языки']]\n",
      "['' '' '' '' '' '4' '3' '3' '3' '1' '2' '2' '2' '2' '2' '2' '2' '2' '2' '2'\n",
      " '1' '1' '2' '1']\n",
      "[['США' 'Новая Англия' 'US-NEng' ..., '3' '4' '3']\n",
      " ['США' 'Калифорния' 'US-CA' ..., '3' '3' '3']\n",
      " ['Канада' 'Торонто' 'CA-GTA' ..., '3' '3' '3']\n",
      " ..., \n",
      " ['Кавказ' 'везде' 'KAV' ..., '2' '3' '2']\n",
      " ['везде' 'везде' 'XXX' ..., '2' '2' '2']\n",
      " ['Африка' 'везде' 'AFR' ..., '1' '1' '1']]\n"
     ]
    }
   ],
   "source": [
    "# show data\n",
    "print (head)\n",
    "print (mul)\n",
    "print (data)"
   ]
  },
  {
   "cell_type": "code",
   "execution_count": 39,
   "metadata": {
    "collapsed": false
   },
   "outputs": [
    {
     "name": "stdout",
     "output_type": "stream",
     "text": [
      "we study data in columns from 5 to 23\n"
     ]
    }
   ],
   "source": [
    "# columns\n",
    "PLACE = 3\n",
    "EST   = 4\n",
    "FIRST = 5\n",
    "LAST  = len(mul)\n",
    "CODE  = 2\n",
    "print (\"we study data in columns from {} to {}\".format(FIRST, LAST-1))"
   ]
  },
  {
   "cell_type": "code",
   "execution_count": 48,
   "metadata": {
    "collapsed": false
   },
   "outputs": [
    {
     "data": {
      "text/plain": [
       "array([['US-NEng', '1', '95'],\n",
       "       ['US-CA', '2', '91'],\n",
       "       ['CA-GTA', '3', '89'],\n",
       "       ['CA-QUE', '4', '89'],\n",
       "       ['AU', '5', '59'],\n",
       "       ['CA-VAN', '6', '87'],\n",
       "       ['US-MW', '7', '89'],\n",
       "       ['US-NW', '8', '89'],\n",
       "       ['FI-TUR', '9', '87'],\n",
       "       ['FI-TAM', '10', '87'],\n",
       "       ['FI-LAH', '11', '87'],\n",
       "       ['AT', '12', '86'],\n",
       "       ['BE', '13', '86'],\n",
       "       ['LU', '14', '88'],\n",
       "       ['NL', '15', '86'],\n",
       "       ['CZ', '16', '88'],\n",
       "       ['CH', '17', '88'],\n",
       "       ['NZ', '18', '87'],\n",
       "       ['FI-HEV', '19', '85'],\n",
       "       ['RU-SPB', '20', '83'],\n",
       "       ['RU-MSK', '21', '83'],\n",
       "       ['FI-NOR', '22', '83'],\n",
       "       ['DK', '23', '82'],\n",
       "       ['NO', '24', '82'],\n",
       "       ['SE-STO', '25', '82'],\n",
       "       ['CA-X', '26', '81'],\n",
       "       ['BG', '27', '80'],\n",
       "       ['DE', '28', '80'],\n",
       "       ['SE-GET', '29', '80'],\n",
       "       ['RU-NSK', '30', '79'],\n",
       "       ['SE-MAL', '31', '78'],\n",
       "       ['US-SE', '32', '77'],\n",
       "       ['BY', '33', '77'],\n",
       "       ['SK', '34', '76'],\n",
       "       ['RU-CHE', '35', '73'],\n",
       "       ['SE-NOR', '36', '74'],\n",
       "       ['GB', '37', '73'],\n",
       "       ['SI', '38', '72'],\n",
       "       ['US-NT', '39', '71'],\n",
       "       ['US-SS', '40', '69'],\n",
       "       ['PL', '41', '70'],\n",
       "       ['RU-CHB', '42', '67'],\n",
       "       ['PT', '43', '68'],\n",
       "       ['FR', '44', '68'],\n",
       "       ['HU', '45', '67'],\n",
       "       ['IL', '46', '66'],\n",
       "       ['KR', '47', '68'],\n",
       "       ['ES', '48', '66'],\n",
       "       ['LV', '49', '65'],\n",
       "       ['LT', '50', '65'],\n",
       "       ['US-GP', '51', '63'],\n",
       "       ['EE', '52', '63'],\n",
       "       ['US-X', '53', '60'],\n",
       "       ['IT', '54', '61'],\n",
       "       ['GR', '55', '53'],\n",
       "       ['RO', '56', '53'],\n",
       "       ['CN', '57', '53'],\n",
       "       ['UA', '58', '38'],\n",
       "       ['YUG', '59', '37'],\n",
       "       ['SAM', '60', '31'],\n",
       "       ['SEA', '61', '30'],\n",
       "       ['KAV', '62', '25'],\n",
       "       ['XXX', '63', '25'],\n",
       "       ['AFR', '64', '19']], \n",
       "      dtype='<U17')"
      ]
     },
     "execution_count": 48,
     "metadata": {},
     "output_type": "execute_result"
    }
   ],
   "source": [
    "# print info, pre-calculated in Google Calc\n",
    "res1 = data[:,CODE:CODE+3]\n",
    "res1"
   ]
  },
  {
   "cell_type": "code",
   "execution_count": null,
   "metadata": {
    "collapsed": true
   },
   "outputs": [],
   "source": []
  }
 ],
 "metadata": {
  "kernelspec": {
   "display_name": "Python 3",
   "language": "python",
   "name": "python3"
  },
  "language_info": {
   "codemirror_mode": {
    "name": "ipython",
    "version": 3
   },
   "file_extension": ".py",
   "mimetype": "text/x-python",
   "name": "python",
   "nbconvert_exporter": "python",
   "pygments_lexer": "ipython3",
   "version": "3.5.1"
  }
 },
 "nbformat": 4,
 "nbformat_minor": 0
}
