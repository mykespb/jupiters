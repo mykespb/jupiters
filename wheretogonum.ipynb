{
 "cells": [
  {
   "cell_type": "markdown",
   "metadata": {},
   "source": [
    "WhereToGoNum by myke, 2016-02-15 2016-02-15 0.1\n",
    "\n",
    "Test many countries on many parameters"
   ]
  },
  {
   "cell_type": "code",
   "execution_count": 14,
   "metadata": {
    "collapsed": true
   },
   "outputs": [],
   "source": [
    "# all imports\n",
    "import csv\n",
    "import numpy as np"
   ]
  },
  {
   "cell_type": "code",
   "execution_count": 5,
   "metadata": {
    "collapsed": true
   },
   "outputs": [],
   "source": [
    "# all data\n",
    "tsvdata = \"wheretogonum.tsv\""
   ]
  },
  {
   "cell_type": "code",
   "execution_count": 25,
   "metadata": {
    "collapsed": false
   },
   "outputs": [],
   "source": [
    "# read data\n",
    "with open(tsvdata) as tsv:\n",
    "    tsvr = csv.reader(tsv, delimiter=\"\\t\")\n",
    "    tab = list(tsvr)\n",
    "    head = np.array(tab[:3])\n",
    "    data = np.array(tab[3:])\n",
    "    mul  = np.array(tab[2])\n",
    "    del tab"
   ]
  },
  {
   "cell_type": "code",
   "execution_count": 26,
   "metadata": {
    "collapsed": false
   },
   "outputs": [
    {
     "name": "stdout",
     "output_type": "stream",
     "text": [
      "[['land' 'place' 'code' 'place' 'markdig' 'markest' 'status-soon'\n",
      "  'status-later' 'available' 'politics' 'economy' 'future' 'work' 'prices'\n",
      "  'currency' 'family' 'culture' 'society' 'educatuion' 'activity' 'world'\n",
      "  'transport' 'nature' 'languages']\n",
      " ['страна' 'место' 'код' 'место' 'оценка_взвеш' 'оценка_общая'\n",
      "  'статус_скоро' 'статус_потом' 'доступность' 'политика' 'экономика'\n",
      "  'перспективы' 'работа' 'цены' 'валюта' 'семья' 'культура' 'общество'\n",
      "  'образование' 'активность' 'мир' 'транспорт' 'природа' 'языки']\n",
      " ['' '' '' '' '' '4' '3' '3' '3' '1' '2' '2' '2' '2' '2' '2' '2' '2' '2'\n",
      "  '2' '1' '1' '2' '1']]\n"
     ]
    }
   ],
   "source": [
    "# show data\n",
    "print (head)"
   ]
  },
  {
   "cell_type": "code",
   "execution_count": null,
   "metadata": {
    "collapsed": true
   },
   "outputs": [],
   "source": []
  }
 ],
 "metadata": {
  "kernelspec": {
   "display_name": "Python 3",
   "language": "python",
   "name": "python3"
  },
  "language_info": {
   "codemirror_mode": {
    "name": "ipython",
    "version": 3
   },
   "file_extension": ".py",
   "mimetype": "text/x-python",
   "name": "python",
   "nbconvert_exporter": "python",
   "pygments_lexer": "ipython3",
   "version": "3.5.1"
  }
 },
 "nbformat": 4,
 "nbformat_minor": 0
}
