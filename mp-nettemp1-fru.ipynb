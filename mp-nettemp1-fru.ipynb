{
 "cells": [
  {
   "cell_type": "markdown",
   "metadata": {},
   "source": [
    "Mikhail Kolodin. \n",
    "Project: Internet temperature.\n",
    "2015-12-15 1.1.2\n",
    "\n",
    "IPython research for internet temperature. \n",
    "We use now only fontanka.ru website, \n",
    "later other sites and methods will be added."
   ]
  },
  {
   "cell_type": "code",
   "execution_count": 117,
   "metadata": {
    "collapsed": true
   },
   "outputs": [],
   "source": [
    "import requests\n",
    "import lxml.html as lh\n",
    "\n",
    "import datetime\n",
    "now = datetime.datetime.now()"
   ]
  },
  {
   "cell_type": "code",
   "execution_count": 118,
   "metadata": {
    "collapsed": true
   },
   "outputs": [],
   "source": [
    "url = \"http://www.fontanka.ru/fontanka/\""
   ]
  },
  {
   "cell_type": "code",
   "execution_count": 124,
   "metadata": {
    "collapsed": false
   },
   "outputs": [
    {
     "name": "stdout",
     "output_type": "stream",
     "text": [
      "Getting data from http://www.fontanka.ru/fontanka/2015/12/15/all.html\n"
     ]
    }
   ],
   "source": [
    "myyear, mymonth, myday = now.year, now.month, now.day\n",
    "plus = \"{0:04d}/{1:02d}/{2:02d}\" .format (myyear, mymonth, myday)\n",
    "fullurl = url + plus + '/all.html'\n",
    "print (\"Getting data from {}\" .format(fullurl))"
   ]
  },
  {
   "cell_type": "code",
   "execution_count": 125,
   "metadata": {
    "collapsed": false
   },
   "outputs": [],
   "source": [
    "page = requests.get(fullurl)\n",
    "tree = lh.fromstring(page.text)\n",
    "#print(tree.text_content())"
   ]
  },
  {
   "cell_type": "code",
   "execution_count": 126,
   "metadata": {
    "collapsed": false
   },
   "outputs": [],
   "source": [
    "bloks_spb = tree.xpath(\"//div[@class='entry article switcher-all-news switcher-spb-news']\")\n",
    "bloks_rus = tree.xpath(\"//div[@class='entry article switcher-all-news switcher-russian-news']\")\n",
    "bloks_world = tree.xpath(\"//div[@class='entry article switcher-all-news switcher-world-news']\")\n",
    "bloks = bloks_spb + bloks_rus + bloks_world"
   ]
  },
  {
   "cell_type": "code",
   "execution_count": 127,
   "metadata": {
    "collapsed": false
   },
   "outputs": [],
   "source": [
    "blogs_spb = []\n",
    "for b in bloks_spb:\n",
    "    blogs_spb.append ((\"spb\", b))\n",
    "blogs_rus = []\n",
    "for b in bloks_rus:\n",
    "    blogs_rus.append ((\"rus\", b))\n",
    "blogs_world = []\n",
    "for b in bloks_world:\n",
    "    blogs_world.append ((\"mir\", b))\n",
    "blogs = blogs_spb + blogs_rus + blogs_world\n",
    "#print (blogs)"
   ]
  },
  {
   "cell_type": "code",
   "execution_count": 183,
   "metadata": {
    "collapsed": false
   },
   "outputs": [],
   "source": [
    "def procref (addr):\n",
    "    \"\"\"get full text of news\"\"\"\n",
    "    if addr == \"\": return\n",
    "    page = requests.get(addr)\n",
    "    tree = lh.fromstring(page.text)\n",
    "    try:\n",
    "        full = tree.xpath(\"//div[@class='article_fulltext']\")\n",
    "        print (full[0].xpath(\"./p\"))\n",
    "#        print (full[0].text.strip())\n",
    "    except:\n",
    "        print (\"None\")"
   ]
  },
  {
   "cell_type": "code",
   "execution_count": 184,
   "metadata": {
    "collapsed": false
   },
   "outputs": [
    {
     "name": "stdout",
     "output_type": "stream",
     "text": [
      "spb 2015/12/15 14:00 text = [«ДП»: Последний актив экс-владельца «Балтимора» банкротится второй раз за год] goto = [http://www.dp.ru/a/2015/12/14/Millioni_roz_Alekseja_Anti/]\n",
      "spb 2015/12/15 13:22 text = [О рождении российского кино расскажут в музее Фаберже] goto = [http://calendar.fontanka.ru/articles/3125/]\n",
      "spb 2015/12/15 13:09 text = [Улицу Зодчего Росси перекроют на два дня] goto = [http://spbvoditel.ru/2015/12/15/019/]\n",
      "spb 2015/12/15 12:40 text = [В Эрмитаже покажут фильм про ООН и Путина] goto = [http://www.fontanka.ru/fontanka//2015/12/15/062/]\n",
      "spb 2015/12/15 12:26 text = [Губернатор Ленобласти запретил подчинённым летать зарубежными авиалиниями] goto = [http://47news.ru/articles/97118/]\n",
      "spb 2015/12/15 12:14 text = [Петербуржец получил с ЖКС 950 тысяч за выброшенную антенну] goto = [http://www.fontanka.ru/fontanka//2015/12/15/059/]\n",
      "spb 2015/12/15 12:06 text = [Сыр, колбасу и икру нашли на границе в тайниках питерского микроавтобуса] goto = [http://fontanka.fi/articles/24897/]\n",
      "spb 2015/12/15 11:53 text = [Дворник нашел завернутого в одеяло младенца на улице Есенина] goto = [http://www.fontanka.ru/fontanka//2015/12/15/053/]\n",
      "spb 2015/12/15 11:50 text = [Метрополитен потратит 8 млн на анализ пропускной способности третьей линии] goto = [http://www.fontanka.ru/fontanka//2015/12/15/052/]\n",
      "spb 2015/12/15 11:37 text = [Очевидцы: В ДТП на дамбе пострадали двое] goto = [http://www.fontanka.ru/fontanka//2015/12/15/050/]\n",
      "...\n",
      "Total records: 66\n"
     ]
    }
   ],
   "source": [
    "for blog in blogs[:10]:\n",
    "    blok = blog[1]\n",
    "    dt = blok.xpath(\"div[@class='entry_date']\")\n",
    "    if dt[0].text.strip()[2] != \":\": continue\n",
    "    print (blog[0], plus, dt[0].text.strip(), end=\" \")\n",
    "    tit = blok.xpath(\"div[@class='entry_title']\")\n",
    "    ref = tit[0].xpath(\"a[@href]\")\n",
    "    print (\"text = [{}]\" .format (ref[0].text.strip()), end=\" \")\n",
    "    goes = tit[0].xpath(\"a/@href\")[0]\n",
    "    if goes.startswith('/'):\n",
    "        goes = url + goes\n",
    "    print (\"goto = [{}]\" .format(goes))\n",
    "#    procref(goes)\n",
    "print (\"...\\nTotal records: {}\" .format(len(blogs)))"
   ]
  },
  {
   "cell_type": "code",
   "execution_count": null,
   "metadata": {
    "collapsed": true
   },
   "outputs": [],
   "source": []
  }
 ],
 "metadata": {
  "kernelspec": {
   "display_name": "Python 3",
   "language": "python",
   "name": "python3"
  },
  "language_info": {
   "codemirror_mode": {
    "name": "ipython",
    "version": 3
   },
   "file_extension": ".py",
   "mimetype": "text/x-python",
   "name": "python",
   "nbconvert_exporter": "python",
   "pygments_lexer": "ipython3",
   "version": "3.4.3"
  }
 },
 "nbformat": 4,
 "nbformat_minor": 0
}
