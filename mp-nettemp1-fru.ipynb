{
 "cells": [
  {
   "cell_type": "markdown",
   "metadata": {},
   "source": [
    "IPython reserach for internet temperature. \n",
    "We use now only fontanka.ru website, \n",
    "later other sites and methods will be added."
   ]
  },
  {
   "cell_type": "code",
   "execution_count": 20,
   "metadata": {
    "collapsed": true
   },
   "outputs": [],
   "source": [
    "import requests\n",
    "import lxml.html as lh\n",
    "\n",
    "import datetime\n",
    "now = datetime.datetime.now()"
   ]
  },
  {
   "cell_type": "code",
   "execution_count": 30,
   "metadata": {
    "collapsed": true
   },
   "outputs": [],
   "source": [
    "url = \"http://www.fontanka.ru/fontanka/\""
   ]
  },
  {
   "cell_type": "code",
   "execution_count": 101,
   "metadata": {
    "collapsed": false
   },
   "outputs": [
    {
     "name": "stdout",
     "output_type": "stream",
     "text": [
      "Getting data from http://www.fontanka.ru/fontanka/2015/12/15/all.html\n"
     ]
    }
   ],
   "source": [
    "myyear, mymonth, myday = now.year, now.month, now.day\n",
    "plus = \"{0:04d}/{1:02d}/{2:02d}\" .format (myyear, mymonth, myday)\n",
    "fullurl = url + plus + '/all.html'\n",
    "print (\"Getting data from {}\" .format(fullurl))"
   ]
  },
  {
   "cell_type": "code",
   "execution_count": 102,
   "metadata": {
    "collapsed": false
   },
   "outputs": [],
   "source": [
    "page = requests.get(fullurl)\n",
    "tree = lh.fromstring(page.text)\n",
    "#print(tree.text_content())"
   ]
  },
  {
   "cell_type": "code",
   "execution_count": 103,
   "metadata": {
    "collapsed": false
   },
   "outputs": [],
   "source": [
    "#bloks = tree.xpath(\"//div[@class<='entry article switcher-all-news']\")\n",
    "bloks_spb = tree.xpath(\"//div[@class='entry article switcher-all-news switcher-spb-news']\")\n",
    "bloks_rus = tree.xpath(\"//div[@class='entry article switcher-all-news switcher-russian-news']\")\n",
    "bloks_world = tree.xpath(\"//div[@class='entry article switcher-all-news switcher-world-news']\")\n",
    "bloks = bloks_spb + bloks_rus + bloks_world"
   ]
  },
  {
   "cell_type": "code",
   "execution_count": 99,
   "metadata": {
    "collapsed": false
   },
   "outputs": [],
   "source": [
    "blogs_spb = []\n",
    "for b in bloks_spb:\n",
    "    blogs_spb.append ((\"spb\", b))\n",
    "blogs_rus = []\n",
    "for b in bloks_rus:\n",
    "    blogs_rus.append ((\"rus\", b))\n",
    "blogs_world = []\n",
    "for b in bloks_world:\n",
    "    blogs_world.append ((\"mir\", b))\n",
    "blogs = blogs_spb + blogs_rus + blogs_world\n",
    "#print (blogs)"
   ]
  },
  {
   "cell_type": "code",
   "execution_count": 100,
   "metadata": {
    "collapsed": false
   },
   "outputs": [
    {
     "name": "stdout",
     "output_type": "stream",
     "text": [
      "spb 2015/12/13 10:33 На дамбе крупная авария с фурой. Движение парализовано\n",
      "spb 2015/12/13 10:21 На Васильевском острове ищут развратника, испугавшего двух школьниц\n",
      "spb 2015/12/13 10:09 В ТЦ «Миллер» полицейский с окровавленным лицом бегал за подростком, напавшим на пятиклассника\n",
      "spb 2015/12/13 09:41 В салатах из петербургских супермаркетов обнаружили плесень и стафилококк\n",
      "spb 2015/12/13 08:29 К вечеру в Петербурге вновь усилится ветер\n",
      "spb 2015/12/13 08:13 На Маршала Жукова сгорели четыре иномарки\n",
      "spb 2015/12/13 08:05 \"Звездный дождь\" от петербуржцев спрятала облачность\n",
      "spb 2015/12/13 04:26 В Петербурге создадут «бродячий» музей кино\n",
      "spb 2015/12/13 01:47 Лауреат «Русского Букера» Александр Снегирёв расскажет о «Вере»\n",
      "spb 2015/12/13 01:36 «Золотая маска» покажет петербуржцам «Самоубийцу»\n",
      "spb 2015/12/13 01:20 Живой классик кино Йос Стеллинг поделится секретами в «Авроре»\n",
      "spb 2015/12/13 00:46 Саакашвили обвинил Авакова в контроле боевиков. И заявил о горячей любви к Украине\n",
      "spb 2015/12/13 00:34 ВЦИОМ: 52 процента пользователей хорошо оценивают работу «Ленэнерго»\n",
      "rus 2015/12/13 10:27 В Москве началась встреча Лаврова и Керри\n",
      "rus 2015/12/13 10:05 Президент подписал закон, снижающий штрафы за неуплату сборов в \"Платон\"\n",
      "rus 2015/12/13 09:49 Путин подписал закон, разрешающий россиянам получать два загранпаспорта\n",
      "rus 2015/12/13 09:25 Медведев призвал ШОС создать финансовую систему без доллара\n",
      "rus 2015/12/13 09:17 Мировые цены на нефть продолжили падение\n",
      "rus 2015/12/13 08:45 Число пострадавших при перестрелке в московском кафе выросло до восьми\n",
      "rus 2015/12/13 00:41 ФАС возбудила дело против «Спартака» за рекламу букмекеров на «Матч ТВ»\n",
      "rus 2015/12/13 00:24 Житель Тюменской области убил пенсионера из-за пельменей\n",
      "mir 2015/12/13 09:57 СМИ: Финляндия получила список из 1700 террористов среди просителей убежища в ЕС\n",
      "mir 2015/12/13 09:33 ОБСЕ: Интенсивность конфликта на востоке Украины снижается\n",
      "mir 2015/12/13 09:01 ЦБ Китая понизил курс юаня до 4,5-летнего минимума\n",
      "mir 2015/12/13 08:37 Саудовская Аравия объявила о создании исламской коалиции по борьбе с терроризмом\n",
      "mir 2015/12/13 08:21 Китай предложил создать зону свободной торговли в рамках ШОС\n",
      "mir 2015/12/13 00:59 Киевский суд удовлетворил иск Коломойского к Саакашвили\n",
      "mir 2015/12/13 00:12 Самая дешевая нефть подешевела почти до 20 долларов за бочку\n",
      "mir 2015/12/13 00:05 В Калифорнии пожар уничтожил рождественскую елку за 120 тысяч долларов\n"
     ]
    }
   ],
   "source": [
    "for blog in blogs:\n",
    "    blok = blog[1]\n",
    "    dt = blok.xpath(\"div[@class='entry_date']\")\n",
    "    if dt[0].text.strip()[2] != \":\": continue\n",
    "    print (blog[0], plus, dt[0].text.strip(), end=\" \")\n",
    "    tit = blok.xpath(\"div[@class='entry_title']\")\n",
    "    ref = tit[0].xpath(\"a[@href]\")\n",
    "    print (ref[0].text.strip())"
   ]
  },
  {
   "cell_type": "code",
   "execution_count": null,
   "metadata": {
    "collapsed": true
   },
   "outputs": [],
   "source": []
  }
 ],
 "metadata": {
  "kernelspec": {
   "display_name": "Python 3",
   "language": "python",
   "name": "python3"
  },
  "language_info": {
   "codemirror_mode": {
    "name": "ipython",
    "version": 3
   },
   "file_extension": ".py",
   "mimetype": "text/x-python",
   "name": "python",
   "nbconvert_exporter": "python",
   "pygments_lexer": "ipython3",
   "version": "3.4.3"
  }
 },
 "nbformat": 4,
 "nbformat_minor": 0
}
