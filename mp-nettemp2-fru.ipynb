{
 "cells": [
  {
   "cell_type": "markdown",
   "metadata": {},
   "source": [
    "Mikhail Kolodin. \n",
    "Project: Internet temperature.\n",
    "2015-12-15 1.2.2\n",
    "\n",
    "IPython research for internet temperature. \n",
    "We use now only fontanka.ru website, \n",
    "later other sites and methods will be added.\n",
    "\n",
    "Version with database recording."
   ]
  },
  {
   "cell_type": "code",
   "execution_count": 10,
   "metadata": {
    "collapsed": true
   },
   "outputs": [],
   "source": [
    "import requests\n",
    "import lxml.html as lh\n",
    "\n",
    "import datetime\n",
    "now = datetime.datetime.now()\n",
    "\n",
    "import sqlite3"
   ]
  },
  {
   "cell_type": "code",
   "execution_count": 76,
   "metadata": {
    "collapsed": false
   },
   "outputs": [],
   "source": [
    "db = \"mp-nettemp2-fru.db\"\n",
    "conn = sqlite3.connect(db)\n",
    "\n",
    "conn.execute('''DROP TABLE IF EXISTS netdata''')\n",
    "conn.execute('''CREATE TABLE netdata (source, areal, ndate, addr, mshort, mlong)''')\n",
    "conn.commit()\n",
    "source = \"fontanka\""
   ]
  },
  {
   "cell_type": "code",
   "execution_count": 77,
   "metadata": {
    "collapsed": true
   },
   "outputs": [],
   "source": [
    "url = \"http://www.fontanka.ru/fontanka/\""
   ]
  },
  {
   "cell_type": "code",
   "execution_count": 78,
   "metadata": {
    "collapsed": false
   },
   "outputs": [
    {
     "name": "stdout",
     "output_type": "stream",
     "text": [
      "Getting data from http://www.fontanka.ru/fontanka/2015/12/15/all.html\n"
     ]
    }
   ],
   "source": [
    "myyear, mymonth, myday = now.year, now.month, now.day\n",
    "plus = \"{0:04d}/{1:02d}/{2:02d}\" .format (myyear, mymonth, myday)\n",
    "fullurl = url + plus + '/all.html'\n",
    "print (\"Getting data from {}\" .format(fullurl))"
   ]
  },
  {
   "cell_type": "code",
   "execution_count": 79,
   "metadata": {
    "collapsed": false
   },
   "outputs": [],
   "source": [
    "page = requests.get(fullurl)\n",
    "tree = lh.fromstring(page.text)\n",
    "#print(tree.text_content())"
   ]
  },
  {
   "cell_type": "code",
   "execution_count": 80,
   "metadata": {
    "collapsed": false
   },
   "outputs": [],
   "source": [
    "bloks_spb = tree.xpath(\"//div[@class='entry article switcher-all-news switcher-spb-news']\")\n",
    "bloks_rus = tree.xpath(\"//div[@class='entry article switcher-all-news switcher-russian-news']\")\n",
    "bloks_world = tree.xpath(\"//div[@class='entry article switcher-all-news switcher-world-news']\")\n",
    "bloks = bloks_spb + bloks_rus + bloks_world"
   ]
  },
  {
   "cell_type": "code",
   "execution_count": 81,
   "metadata": {
    "collapsed": false
   },
   "outputs": [],
   "source": [
    "blogs_spb = []\n",
    "for b in bloks_spb:\n",
    "    blogs_spb.append ((\"spb\", b))\n",
    "blogs_rus = []\n",
    "for b in bloks_rus:\n",
    "    blogs_rus.append ((\"rus\", b))\n",
    "blogs_world = []\n",
    "for b in bloks_world:\n",
    "    blogs_world.append ((\"mir\", b))\n",
    "blogs = blogs_spb + blogs_rus + blogs_world\n",
    "#print (blogs)"
   ]
  },
  {
   "cell_type": "code",
   "execution_count": 82,
   "metadata": {
    "collapsed": false
   },
   "outputs": [],
   "source": [
    "def procref (addr):\n",
    "    \"\"\"get full text of news\"\"\"\n",
    "    if addr == \"\": return\n",
    "    page = requests.get(addr)\n",
    "    tree = lh.fromstring(page.text)\n",
    "    try:\n",
    "        full = tree.xpath(\"//div[@class='article_fulltext']\")\n",
    "        print (full[0].xpath(\"./p\"))\n",
    "#        print (full[0].text.strip())\n",
    "    except:\n",
    "        print (\"None\")"
   ]
  },
  {
   "cell_type": "code",
   "execution_count": 83,
   "metadata": {
    "collapsed": false
   },
   "outputs": [
    {
     "name": "stdout",
     "output_type": "stream",
     "text": [
      "spb 2015-12-15 14:53 text = [На помойке в Петербурге нашли труп женщины с мешком на голове] goto = [http://www.fontanka.ru/fontanka//2015/12/15/097/]\n",
      "spb 2015-12-15 14:45 text = [Минкультуры потратит 75 миллионов на конкурента RuTracker] goto = [http://calendar.fontanka.ru/articles/3126/]\n",
      "spb 2015-12-15 14:43 text = [\"Квадрат.ру\": Смольный ищет пути легализации самостроев] goto = [http://www.kvadrat.ru/news/20151215_smolnyiy_ischet_puti_legalizatsii_samostroev]\n",
      "spb 2015-12-15 14:31 text = [Халк вошел в символическую сборную группового этапа Лиги чемпионов] goto = [http://www.fontanka.ru/fontanka//2015/12/15/090/]\n",
      "spb 2015-12-15 14:24 text = [СКА продлил контракт с Каблуковым на два года] goto = [http://www.fontanka.ru/fontanka//2015/12/15/089/]\n",
      "spb 2015-12-15 14:20 text = [Агент Витселя:  Вести дела с «Зенитом» непросто, ведь «Газпром» обеспечивает газом всю Европу] goto = [http://www.fontanka.ru/fontanka//2015/12/15/088/]\n",
      "spb 2015-12-15 14:14 text = [Полиция не будет возбуждать уголовное дело по найденным в шахте лифта в Металлострое цилиндрам] goto = [http://www.fontanka.ru/fontanka//2015/12/15/087/]\n",
      "spb 2015-12-15 14:00 text = [«ДП»: Последний актив экс-владельца «Балтимора» банкротится второй раз за год] goto = [http://www.dp.ru/a/2015/12/14/Millioni_roz_Alekseja_Anti/]\n",
      "spb 2015-12-15 13:22 text = [О рождении российского кино расскажут в музее Фаберже] goto = [http://calendar.fontanka.ru/articles/3125/]\n",
      "spb 2015-12-15 13:09 text = [Улицу Зодчего Росси перекроют на два дня] goto = [http://spbvoditel.ru/2015/12/15/019/]\n",
      "spb 2015-12-15 12:40 text = [В Эрмитаже покажут фильм про ООН и Путина] goto = [http://www.fontanka.ru/fontanka//2015/12/15/062/]\n",
      "spb 2015-12-15 12:26 text = [Губернатор Ленобласти запретил подчинённым летать зарубежными авиалиниями] goto = [http://47news.ru/articles/97118/]\n",
      "spb 2015-12-15 12:14 text = [Петербуржец получил с ЖКС 950 тысяч за выброшенную антенну] goto = [http://www.fontanka.ru/fontanka//2015/12/15/059/]\n",
      "spb 2015-12-15 12:06 text = [Сыр, колбасу и икру нашли на границе в тайниках питерского микроавтобуса] goto = [http://fontanka.fi/articles/24897/]\n",
      "spb 2015-12-15 11:53 text = [Дворник нашел завернутого в одеяло младенца на улице Есенина] goto = [http://www.fontanka.ru/fontanka//2015/12/15/053/]\n",
      "spb 2015-12-15 11:50 text = [Метрополитен потратит 8 млн на анализ пропускной способности третьей линии] goto = [http://www.fontanka.ru/fontanka//2015/12/15/052/]\n",
      "spb 2015-12-15 11:37 text = [Очевидцы: В ДТП на дамбе пострадали двое] goto = [http://www.fontanka.ru/fontanka//2015/12/15/050/]\n",
      "spb 2015-12-15 11:31 text = [Смольный запретил выходить на лед] goto = [http://www.fontanka.ru/fontanka//2015/12/15/048/]\n",
      "spb 2015-12-15 11:25 text = [Суд оставил в силе решение ФАС о незаконности сноса рекламных конструкций] goto = [http://www.fontanka.ru/fontanka//2015/12/15/047/]\n",
      "spb 2015-12-15 11:17 text = [\"Квадрат.ру\": Спрос на дачи на Карельском перешейке упал на 60%] goto = [http://www.kvadrat.ru/news/20151215_spros_na_dachi_na_karelskom_peresheyke_upal_na_60]\n",
      "spb 2015-12-15 11:17 text = [Мужчина, выпавший с 7 этажа в Калининском районе, выжил] goto = [http://www.fontanka.ru/fontanka//2015/12/15/044/]\n",
      "spb 2015-12-15 11:11 text = [Смольный: Завод Bosch-Siemens может возобновить производство на следующей неделе] goto = [http://www.fontanka.ru/fontanka//2015/12/15/042/]\n",
      "spb 2015-12-15 11:09 text = [В сгоревшем гараже в Выборгском районе нашли тело мужчины] goto = [http://www.fontanka.ru/fontanka//2015/12/15/041/]\n",
      "spb 2015-12-15 11:02 text = [Дольщица строительной компании «Импульс» отсудила ребёнка у её основателя] goto = [http://www.fontanka.ru/fontanka//2015/12/15/038/]\n",
      "spb 2015-12-15 10:56 text = [Промышленное производство за 11 месяцев упало в Петербурге на 8%] goto = [http://www.fontanka.ru/fontanka//2015/12/15/037/]\n",
      "spb 2015-12-15 10:50 text = [Четыре человека пострадали в ДТП под Лугой] goto = [http://spbvoditel.ru/2015/12/15/008/]\n",
      "spb 2015-12-15 10:33 text = [На дамбе крупная авария с фурой. Движение парализовано] goto = [http://www.fontanka.ru/fontanka//2015/12/15/033/]\n",
      "spb 2015-12-15 10:21 text = [На Васильевском острове ищут развратника, испугавшего двух школьниц] goto = [http://www.fontanka.ru/fontanka//2015/12/15/031/]\n",
      "spb 2015-12-15 10:09 text = [В ТЦ «Миллер» полицейский с окровавленным лицом бегал за подростком, напавшим на пятиклассника] goto = [http://www.fontanka.ru/fontanka//2015/12/15/029/]\n",
      "spb 2015-12-15 09:41 text = [В салатах из петербургских супермаркетов обнаружили плесень и стафилококк] goto = [http://doctorpiter.ru/articles/13291/]\n",
      "rus 2015-12-15 14:58 text = [Три человека арестованы во Франции по делу о терактах] goto = [http://www.fontanka.ru/fontanka//2015/12/15/096/]\n",
      "rus 2015-12-15 14:50 text = [Курс доллара достиг исторического максимума с 1998 года] goto = [http://www.fontanka.ru/fontanka//2015/12/15/095/]\n",
      "rus 2015-12-15 14:04 text = [В Кремле начались переговоры Путина и Лукашенко] goto = [http://www.fontanka.ru/fontanka//2015/12/15/086/]\n",
      "rus 2015-12-15 13:55 text = [Зампредседателя Верховного суда не лишили ученой степени по иску \"Диссернета\"] goto = [http://www.fontanka.ru/fontanka//2015/12/15/085/]\n",
      "rus 2015-12-15 13:49 text = [Работа нефтепровода в Оренбургской области приостановлена из-за незаконной врезки] goto = [http://www.fontanka.ru/fontanka//2015/12/15/083/]\n",
      "rus 2015-12-15 13:43 text = [В Кремле спрогнозировали долгий период цен на нефть ниже $40] goto = [http://www.fontanka.ru/fontanka//2015/12/15/082/]\n",
      "rus 2015-12-15 13:37 text = [Глава Счетной палаты призвала в следующем году «не просто тратить»] goto = [http://www.fontanka.ru/fontanka//2015/12/15/081/]\n",
      "rus 2015-12-15 13:24 text = [Экс-жена замгенпрокурора Лопатина подала в суд на Навального в связи с фильмом о генпрокуроре Чайке] goto = [http://www.fontanka.ru/fontanka//2015/12/15/076/]\n",
      "rus 2015-12-15 13:03 text = [\"Левада-центр\": Большинство россиян ни разу не отдыхали в Египте и Турции] goto = [http://www.fontanka.ru/fontanka//2015/12/15/071/]\n",
      "rus 2015-12-15 12:57 text = [Запущена вторая нитка энергомоста в Крым] goto = [http://www.fontanka.ru/fontanka//2015/12/15/070/]\n",
      "rus 2015-12-15 12:50 text = [Турция увеличивает закупки газа в России] goto = [http://www.fontanka.ru/fontanka//2015/12/15/066/]\n",
      "rus 2015-12-15 12:38 text = [Уже третий депутат Госдумы просит Бастрыкина проверить расследование ФБК о Чайке] goto = [http://www.fontanka.ru/fontanka//2015/12/15/064/]\n",
      "rus 2015-12-15 12:32 text = [В Кремле насторожились из-за колебания курса рубля] goto = [http://www.fontanka.ru/fontanka//2015/12/15/063/]\n",
      "rus 2015-12-15 12:20 text = [Украинский шпион получил 11 лет колонии] goto = [http://www.fontanka.ru/fontanka//2015/12/15/060/]\n",
      "rus 2015-12-15 12:11 text = [Ходорковский перечислил «адекватных» людей в правительстве] goto = [http://www.fontanka.ru/fontanka//2015/12/15/058/]\n",
      "rus 2015-12-15 12:08 text = [Депутат от КПРФ обратился к Бастрыкину с просьбой проверить данные ФБК о Чайке] goto = [http://www.fontanka.ru/fontanka//2015/12/15/057/]\n",
      "rus 2015-12-15 12:01 text = [Путин утвердил заморозку накопительной пенсии россиян в 2016 году] goto = [http://www.fontanka.ru/fontanka//2015/12/15/055/]\n",
      "rus 2015-12-15 11:57 text = [Путин повысил МРОТ до 6204 рублей] goto = [http://www.fontanka.ru/fontanka//2015/12/15/054/]\n",
      "rus 2015-12-15 11:43 text = [В квартире белгородского имама нашли взрывчатку] goto = [http://www.fontanka.ru/fontanka//2015/12/15/051/]\n",
      "rus 2015-12-15 11:21 text = [ФСБ: 2,9 тыс. россиян подозреваются в причастности к террористам Сирии и Ирака] goto = [http://www.fontanka.ru/fontanka//2015/12/15/045/]\n",
      "rus 2015-12-15 11:05 text = [Керри: У России и США есть желание урегулировать ситуацию в Сирии и на Украине] goto = [http://www.fontanka.ru/fontanka//2015/12/15/040/]\n",
      "rus 2015-12-15 11:01 text = [ВЦИОМ: Более половины россиян не готовы сдавать нормы ГТО] goto = [http://www.fontanka.ru/fontanka//2015/12/15/039/]\n",
      "rus 2015-12-15 10:44 text = [Дальнобойщики продолжат протестовать, несмотря на снижение штрафов по «Платону»] goto = [http://www.fontanka.ru/fontanka//2015/12/15/035/]\n",
      "rus 2015-12-15 10:27 text = [В Москве началась встреча Лаврова и Керри] goto = [http://www.fontanka.ru/fontanka//2015/12/15/032/]\n",
      "rus 2015-12-15 10:05 text = [Президент подписал закон, снижающий штрафы за неуплату сборов в \"Платон\"] goto = [http://www.fontanka.ru/fontanka//2015/12/15/028/]\n",
      "rus 2015-12-15 09:49 text = [Путин подписал закон, разрешающий россиянам получать два загранпаспорта] goto = [http://www.fontanka.ru/fontanka//2015/12/15/026/]\n",
      "rus 2015-12-15 09:25 text = [Медведев призвал ШОС создать финансовую систему без доллара] goto = [http://www.fontanka.ru/fontanka//2015/12/15/023/]\n",
      "rus 2015-12-15 09:17 text = [Мировые цены на нефть продолжили падение] goto = [http://www.fontanka.ru/fontanka//2015/12/15/022/]\n",
      "rus 2015-12-15 08:45 text = [Число пострадавших при перестрелке в московском кафе выросло до восьми] goto = [http://www.fontanka.ru/fontanka//2015/12/15/018/]\n",
      "mir 2015-12-15 14:37 text = [За оскорбление королевской собаки тайцу грозит почти 40 лет тюрьмы] goto = [http://www.fontanka.ru/fontanka//2015/12/15/091/]\n",
      "mir 2015-12-15 13:30 text = [В Донецкой области местный житель подорвался на мине в поле] goto = [http://www.fontanka.ru/fontanka//2015/12/15/078/]\n",
      "mir 2015-12-15 13:14 text = [Нефть Brent растет почти до $39 за баррель] goto = [http://www.fontanka.ru/fontanka//2015/12/15/073/]\n",
      "mir 2015-12-15 10:39 text = [В штате Нью-Йорк аварийно отключился реактор АЭС] goto = [http://www.fontanka.ru/fontanka//2015/12/15/034/]\n",
      "mir 2015-12-15 09:57 text = [СМИ: Финляндия получила список из 1700 террористов среди просителей убежища в ЕС] goto = [http://fontanka.fi/articles/24892/]\n",
      "mir 2015-12-15 09:33 text = [ОБСЕ: Интенсивность конфликта на востоке Украины снижается] goto = [http://www.fontanka.ru/fontanka//2015/12/15/024/]\n",
      "mir 2015-12-15 09:01 text = [ЦБ Китая понизил курс юаня до 4,5-летнего минимума] goto = [http://www.fontanka.ru/fontanka//2015/12/15/020/]\n",
      "...\n",
      "Total records: 66\n"
     ]
    }
   ],
   "source": [
    "for blog in blogs:\n",
    "    blok = blog[1]\n",
    "    dt = blok.xpath(\"div[@class='entry_date']\")\n",
    "    dtout = dt[0].text.strip()\n",
    "    if dtout[2] != \":\": continue\n",
    "    plusout = plus.replace(\"/\", \"-\")\n",
    "    print (blog[0], plusout, dtout, end=\" \")\n",
    "    tit = blok.xpath(\"div[@class='entry_title']\")\n",
    "    ref = tit[0].xpath(\"a[@href]\")\n",
    "    outtext = ref[0].text.strip()\n",
    "    print (\"text = [{}]\" .format (outtext), end=\" \")\n",
    "    goes = tit[0].xpath(\"a/@href\")[0]\n",
    "    if goes.startswith('/'):\n",
    "        goes = url + goes\n",
    "    print (\"goto = [{}]\" .format(goes))\n",
    "#    procref(goes)\n",
    "    \n",
    "    alldtout = plusout + \" \" + dtout\n",
    "    conn.execute(\"\"\"INSERT INTO netdata (source, areal, ndate, addr, mshort, mlong) VALUES (?, ?, ?, ?, ?, ?)\"\"\", (source, blog[0], alldtout, goes, outtext, \"\"))\n",
    "    conn.commit()\n",
    "    \n",
    "print (\"...\\nTotal records: {}\" .format(len(blogs)))"
   ]
  },
  {
   "cell_type": "code",
   "execution_count": 84,
   "metadata": {
    "collapsed": true
   },
   "outputs": [],
   "source": [
    "conn.close()"
   ]
  },
  {
   "cell_type": "code",
   "execution_count": null,
   "metadata": {
    "collapsed": true
   },
   "outputs": [],
   "source": []
  }
 ],
 "metadata": {
  "kernelspec": {
   "display_name": "Python 3",
   "language": "python",
   "name": "python3"
  },
  "language_info": {
   "codemirror_mode": {
    "name": "ipython",
    "version": 3
   },
   "file_extension": ".py",
   "mimetype": "text/x-python",
   "name": "python",
   "nbconvert_exporter": "python",
   "pygments_lexer": "ipython3",
   "version": "3.4.3"
  }
 },
 "nbformat": 4,
 "nbformat_minor": 0
}
