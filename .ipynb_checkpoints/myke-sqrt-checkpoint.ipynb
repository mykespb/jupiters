{
 "cells": [
  {
   "cell_type": "markdown",
   "metadata": {},
   "source": [
    "# Решение квадратных уравнений\n",
    "\n",
    "## Определение\n",
    "\n",
    "Квадратным (КУ) называется уравнение вида $ax^2 + bx + c =0$ .\n",
    "\n",
    "## Решение\n",
    "\n",
    "Величина $D = b^2 - 4ac$ назвается _дискриминантом_ КУ. \n",
    "\n",
    "* При $D>0$ есть 2 действительных корня (решения): $x_{1, 2} = \\frac{-b \\pm \\sqrt{b^2 - 4ac}}{2a}$. \n",
    "* при $D=0$ есть 1 действительный корень, равный $x = \\frac{-b}{2a}$,\n",
    "* при $D<0$ действительных корней нет, но есть два комплексных (комплексно-сопряжённых, так как они отличаются только знаком).\n",
    "\n",
    "## Примеры и графики\n"
   ]
  },
  {
   "cell_type": "code",
   "execution_count": 1,
   "metadata": {
    "collapsed": false
   },
   "outputs": [],
   "source": [
    "%matplotlib inline\n",
    "import math\n",
    "import matplotlib.pyplot as plt\n",
    "import numpy as np"
   ]
  },
  {
   "cell_type": "code",
   "execution_count": 2,
   "metadata": {
    "collapsed": false
   },
   "outputs": [],
   "source": [
    "# эти значения можно менять и экспериментировать\n",
    "a = 6\n",
    "b = 10\n",
    "c = -30"
   ]
  },
  {
   "cell_type": "code",
   "execution_count": 3,
   "metadata": {
    "collapsed": false
   },
   "outputs": [
    {
     "data": {
      "text/plain": [
       "[<matplotlib.lines.Line2D at 0x7f9f6d4056a0>]"
      ]
     },
     "execution_count": 3,
     "metadata": {},
     "output_type": "execute_result"
    },
    {
     "data": {
      "image/png": "[encoded data removed]",
      "text/plain": [
       "<matplotlib.figure.Figure at 0x7f9f6d508860>"
      ]
     },
     "metadata": {},
     "output_type": "display_data"
    }
   ],
   "source": [
    "# здесь можно задать диапазон по х для вывода графика\n",
    "x = np.linspace(-10, 10)\n",
    "plt.grid()\n",
    "plt.plot (x, a*x**2+b*x+c)\n",
    "plt.plot (x, 0*x, 'r')\n",
    "#plt.plot (x, x**2)"
   ]
  },
  {
   "cell_type": "code",
   "execution_count": 7,
   "metadata": {
    "collapsed": false
   },
   "outputs": [
    {
     "name": "stdout",
     "output_type": "stream",
     "text": [
      "корни: 1.55297017721 -3.21963684388\n"
     ]
    }
   ],
   "source": [
    "# здесь считаем корни действительные:\n",
    "\n",
    "x1 = (-b + np.sqrt(b**2 - 4*a*c))/(2*a)\n",
    "x2 = (-b - np.sqrt(b**2 - 4*a*c))/(2*a)\n",
    "\n",
    "print (\"корни:\", x1, x2)"
   ]
  },
  {
   "cell_type": "code",
   "execution_count": 6,
   "metadata": {
    "collapsed": false
   },
   "outputs": [
    {
     "name": "stdout",
     "output_type": "stream",
     "text": [
      "корни: (1.55297017721+0j) (-3.21963684388+0j)\n"
     ]
    }
   ],
   "source": [
    "# здесь считаем корни комплексные:\n",
    "\n",
    "ca = complex(a); cb = complex(b); cc = complex(c)\n",
    "cx1 = (-cb + np.sqrt(cb**2 - 4*ca*cc))/(2*ca)\n",
    "cx2 = (-cb - np.sqrt(cb**2 - 4*ca*cc))/(2*ca)\n",
    "\n",
    "print (\"корни:\", cx1, cx2)"
   ]
  },
  {
   "cell_type": "code",
   "execution_count": null,
   "metadata": {
    "collapsed": false
   },
   "outputs": [],
   "source": []
  }
 ],
 "metadata": {
  "kernelspec": {
   "display_name": "Python 3",
   "language": "python",
   "name": "python3"
  },
  "language_info": {
   "codemirror_mode": {
    "name": "ipython",
    "version": 3
   },
   "file_extension": ".py",
   "mimetype": "text/x-python",
   "name": "python",
   "nbconvert_exporter": "python",
   "pygments_lexer": "ipython3",
   "version": "3.5.1"
  }
 },
 "nbformat": 4,
 "nbformat_minor": 0
}
