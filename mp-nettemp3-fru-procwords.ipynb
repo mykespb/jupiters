{
 "cells": [
  {
   "cell_type": "markdown",
   "metadata": {},
   "source": [
    "Mikhail Kolodin. Project: Internet temperature. 2015-12-15 1.4.1\n",
    "\n",
    "IPython research for internet temperature. We use now only fontanka.ru website, later other sites and methods will be added.\n",
    "\n",
    "Version with database recording. Now full archive of headers since 2000.\n",
    "\n",
    "Here we count good and bad words in the database. No more downloading info from websites."
   ]
  },
  {
   "cell_type": "code",
   "execution_count": 16,
   "metadata": {
    "collapsed": true
   },
   "outputs": [],
   "source": [
    "import datetime\n",
    "now = datetime.datetime.now()\n",
    "import time\n",
    "\n",
    "import sqlite3"
   ]
  },
  {
   "cell_type": "markdown",
   "metadata": {},
   "source": [
    "Part I. Get database with data and correct it. "
   ]
  },
  {
   "cell_type": "code",
   "execution_count": 17,
   "metadata": {
    "collapsed": true
   },
   "outputs": [],
   "source": [
    "#db = \"mp-nettemp3-fru-2015.db\"\n",
    "db = \"mp-nettemp3-fru-2000-2015.db\"\n",
    "conn = sqlite3.connect(db)\n",
    "cur = conn.cursor()"
   ]
  },
  {
   "cell_type": "code",
   "execution_count": 18,
   "metadata": {
    "collapsed": false
   },
   "outputs": [
    {
     "data": {
      "text/plain": [
       "<sqlite3.Cursor at 0x7f8d804c2dc0>"
      ]
     },
     "execution_count": 18,
     "metadata": {},
     "output_type": "execute_result"
    }
   ],
   "source": [
    "conn.execute (\"alter table netdata add dtyear int\")"
   ]
  },
  {
   "cell_type": "code",
   "execution_count": 19,
   "metadata": {
    "collapsed": false
   },
   "outputs": [
    {
     "name": "stdout",
     "output_type": "stream",
     "text": [
      "total records: (512351,)\n"
     ]
    }
   ],
   "source": [
    "cur.execute (\"select count(*) from netdata\")\n",
    "print (\"total records: {}\" .format(cur.fetchone()))"
   ]
  },
  {
   "cell_type": "code",
   "execution_count": 20,
   "metadata": {
    "collapsed": false
   },
   "outputs": [
    {
     "name": "stdout",
     "output_type": "stream",
     "text": [
      "We have data for 5378 days\n"
     ]
    }
   ],
   "source": [
    "rc = cur.execute (\"select distinct substr(ndate, 1, 10) from netdata\")\n",
    "cnt = 0\n",
    "for r in rc: cnt += 1\n",
    "print (\"We have data for {} days\" .format(cnt))"
   ]
  },
  {
   "cell_type": "code",
   "execution_count": 21,
   "metadata": {
    "collapsed": false
   },
   "outputs": [],
   "source": [
    "cur.execute (\"update netdata set dtyear = substr(ndate, 1, 10)\")\n",
    "conn.commit()"
   ]
  },
  {
   "cell_type": "markdown",
   "metadata": {},
   "source": [
    "Part II. get good and bad words and strore them locally."
   ]
  },
  {
   "cell_type": "code",
   "execution_count": 22,
   "metadata": {
    "collapsed": true
   },
   "outputs": [],
   "source": [
    "goods, bads = \"words-good.txt\", \"words-bad.txt\""
   ]
  },
  {
   "cell_type": "code",
   "execution_count": 23,
   "metadata": {
    "collapsed": false
   },
   "outputs": [],
   "source": [
    "with open(goods) as good:\n",
    "    goodw = good.read().split()\n",
    "goodw.sort()\n",
    "goodw = tuple(goodw)"
   ]
  },
  {
   "cell_type": "code",
   "execution_count": 24,
   "metadata": {
    "collapsed": false
   },
   "outputs": [
    {
     "name": "stdout",
     "output_type": "stream",
     "text": [
      "Good words: ('абонент', 'автобус', 'автодорог', 'акварел', 'актер', 'актрис', 'артист', 'балет', 'безопасн', 'бесплатн', 'библиоте', 'блюз', 'богатство', 'богаты', 'вальс', 'велосипед', 'верност', 'вернул', 'верны', 'возлюбленн', 'волейбол', 'восстанов', 'вручен', 'встреч', 'выделени', 'выдели', 'выжил', 'выпущен', 'высажен', 'высокоскоростно', 'выставк', 'выставочн', 'выступи', 'выступлени', 'выяснил', 'галере', 'гаранти', 'гимнази', 'гирлянд', 'график', 'гуляни', 'гулять', 'детск', 'дзюдо', 'диплом', 'дирижер', 'добилась', 'добился', 'добро', 'добры', 'доволен', 'довольн', 'договор', 'доплачива', 'дорог', 'друг', 'дружествен', 'друзья', 'завершен', 'застрахова', 'защита', 'защитил', 'здоров', 'зелен', 'знаменательбн', 'игруше', 'изготов', 'изучени', 'изучит', 'имущество', 'институт', 'интернет', 'информатик', 'исследовали', 'исследовани', 'историческ', 'история', 'карнавал', 'картин', 'кинотеатр', 'кинофестивал', 'книг', 'книжн', 'коллекци', 'компьютер', 'концерт', 'корректиров', 'костюм', 'круглогодичн', 'круглосуточн', 'культур', 'курорт', 'лауреат', 'легенда', 'лучше', 'лучши', 'лыжни', 'лыжни', 'лыжны', 'любоваться', 'мастер', 'материн', 'матч', 'медал', 'международн', 'метро', 'мозаи', 'молочн', 'музее', 'музей', 'музею', 'музея', 'музыка', 'мясно', 'наград', 'надежн', 'наилучш', 'написал', 'наук', 'науч', 'нашел', 'нашли', 'новы', 'ноутбук', 'нравится', 'обмен', 'обнаружил', 'обыграл', 'одобр', 'оздоровлени', 'озеленени', 'опрашива', 'опрос', 'оптимальн', 'оптимиз', 'организован', 'орден', 'оркестр', 'освоен', 'открыл', 'открыти', 'отпустил', 'отремонтирова', 'охран', 'памят', 'певец', 'певиц', 'певчески', 'пешеход', 'писател', 'победит', 'подар', 'подключ', 'подновили', 'подписан', 'покажет', 'показыв', 'пользовател', 'полюбоваться', 'помирил', 'помог', 'помощ', 'популяр', 'посетит', 'посмотреть', 'поставк', 'поставл', 'почет', 'почтен', 'почтил', 'поэзи', 'поэт', 'праздник', 'праздничн', 'празднова', 'предприяти', 'преми', 'призер', 'призов', 'приятн', 'программи', 'продовольств', 'продукт', 'путешеств', 'радост', 'разработа', 'разреш', 'раритет', 'расширен', 'регат', 'реставра', 'решил', 'рождени', 'салат', 'салон', 'самбо', 'свадеб', 'свадьб', 'свобод', 'сервис', 'скоростно', 'скульпт', 'слетать', 'совершенств', 'создадут', 'создани', 'социальн', 'спасает', 'спасают', 'спасени', 'спектакл', 'спорт', 'стадион', 'стимулирова', 'стихи', 'стихов', 'стихотворени', 'строител', 'студен', 'счастлив', 'счасть', 'танец', 'танцев', 'театр', 'тенор', 'тимуров', 'товар', 'трамва', 'транспорт', 'тренер', 'троллейбус', 'туризм', 'турист', 'убедил', 'уверенн', 'удалось', 'удач', 'удовольстви', 'улучшен', 'умственны', 'университет', 'услуг', 'усовершенствован', 'успех', 'успеш', 'устрое', 'фабрик', 'фантаст', 'фестивал', 'фотограф', 'фотокорреспондент', 'футбол', 'хокке', 'хокку', 'хорош', 'художествен', 'художни', 'чемпион', 'шахмат', 'шашечны', 'шашки', 'школ', 'экскурси', 'юбиле', 'язык')\n"
     ]
    }
   ],
   "source": [
    "print (\"Good words:\", goodw)"
   ]
  },
  {
   "cell_type": "code",
   "execution_count": 25,
   "metadata": {
    "collapsed": true
   },
   "outputs": [],
   "source": [
    "with open(bads) as bad:\n",
    "    badw = bad.read().split()\n",
    "badw.sort()\n",
    "badw = tuple(badw)"
   ]
  },
  {
   "cell_type": "code",
   "execution_count": 26,
   "metadata": {
    "collapsed": false
   },
   "outputs": [
    {
     "name": "stdout",
     "output_type": "stream",
     "text": [
      "Bad words: ('авария', 'агресси', 'арест', 'атака', 'атакова', 'банкрот', 'бастовать', 'бастующи', 'беда', 'бедственн', 'беженец', 'беженц', 'бездейств', 'безработ', 'беспоряд', 'беспризорн', 'бестви', 'болеет', 'болезн', 'болеют', 'бомб', 'бомж', 'взорва', 'взрыв', 'взятк', 'взяточни', 'вирус', 'военизированны', 'военны', 'возбужден', 'война', 'вооружени', 'воровств', 'вред', 'вынужден', 'генерал', 'героин', 'горел', 'гранат', 'грипп', 'давлени', 'депортаци', 'депортирован', 'дестабилиз', 'дискриминаци', 'домушник', 'жалоб', 'жалуются', 'забастовк', 'заболе', 'завал', 'задержан', 'зажор', 'заминирова', 'запрет', 'запрещен', 'заражен', 'застави', 'застрелил', 'затоплен', 'затор', 'землятрясени', 'избиени', 'избил', 'избит', 'казни', 'казнь', 'контрабанд', 'конфликт', 'коррумпирован', 'коррупци', 'криминал', 'кровав', 'кровь', 'ликвидир', 'лимит', 'лишили', 'лохотрон', 'мафии', 'мафиоз', 'мафия', 'мешает', 'мешать', 'миномет', 'наводнени', 'наган', 'наказани', 'напавш', 'нападени', 'наркодилер', 'наркоман', 'наркоти', 'нарушен', 'нацизм', 'национализм', 'националист', 'нацист', 'неблагополуч', 'недовольн', 'недополуч', 'незаконн', 'несанкционирован', 'нехватк', 'обанкротил', 'обвинил', 'обвинител', 'обвиня', 'обокрал', 'обстрел', 'оглуш', 'огнестрельно', 'ограбил', 'ограблен', 'ограничени', 'ограничить', 'опасност', 'опасны', 'опоздал', 'опоздани', 'оружейн', 'оружи', 'оскверн', 'отсуди', 'падени', 'парализован', 'перебо', 'перевернул', 'перелом', 'пистолет', 'плесен', 'побег', 'поврежден', 'погиб', 'погубил', 'подкуп', 'подозр', 'подорвал', 'подрал', 'подтоплены', 'пожар', 'покончил', 'покушени', 'помех', 'поножовщин', 'порнографи', 'пострада', 'потерпевши', 'потеря', 'потоп', 'похитил', 'похищен', 'похмель', 'правонарушен', 'пресечени', 'преступн', 'претензи', 'принудит', 'принужден', 'пробит', 'пробк', 'провал', 'простуд', 'протест', 'пулево', 'пуля', 'разбит', 'разворовывани', 'развратн', 'разруха', 'разруш', 'ранен', 'расстроенны', 'расстройств', 'растрат', 'расхищение', 'револьвер', 'рецесси', 'рухнул', 'сатанизм', 'сатанист', 'сбил', 'сбитого', 'сбитый', 'скандал', 'скончал', 'скорь', 'следстви', 'смертельн', 'смертн', 'смерть', 'снаряд', 'солдат', 'спад', 'спам', 'столкновени', 'столкнул', 'страшны', 'танк', 'террор', 'траур', 'тревог', 'тревож', 'тротил', 'троян', 'трудност', 'труп', 'туберкулез', 'тунеяд', 'тюремн', 'тюремны', 'тюрьм', 'убиенн', 'убийц', 'убил', 'убит', 'убытки', 'убыток', 'уволен', 'увольнени', 'угнал', 'угнан', 'угнать', 'уголовн', 'угонщи', 'угрожа', 'угроз', 'ужас', 'украден', 'украсть', 'умер', 'умира', 'уничтож', 'упадок', 'упадочны', 'уплотнени', 'уплотнительн', 'ухудшается', 'ухудшени', 'ущерб', 'форточни', 'хищени', 'цензур', 'шпион', 'штраф', 'эвакуир', 'экстремизм', 'экстремист', 'энцефалит', 'эпидеми')\n"
     ]
    }
   ],
   "source": [
    "print (\"Bad words:\", badw)"
   ]
  },
  {
   "cell_type": "markdown",
   "metadata": {},
   "source": [
    "Part III. Process add data in database, \n",
    "set wpos, wneg, mark as counters for good and bad words in each record."
   ]
  },
  {
   "cell_type": "code",
   "execution_count": 27,
   "metadata": {
    "collapsed": false
   },
   "outputs": [
    {
     "data": {
      "text/plain": [
       "<sqlite3.Cursor at 0x7f8d804c2e30>"
      ]
     },
     "execution_count": 27,
     "metadata": {},
     "output_type": "execute_result"
    }
   ],
   "source": [
    "cur.execute (\"select *, rowid from netdata\")"
   ]
  },
  {
   "cell_type": "code",
   "execution_count": 28,
   "metadata": {
    "collapsed": false
   },
   "outputs": [],
   "source": [
    "toshow = 10\n",
    "shown = 0\n",
    "\n",
    "for row in cur.fetchall():\n",
    "    header = row[3].lower()\n",
    "    dthere = row[1]\n",
    "    cpos = cneg = 0\n",
    "    for w in goodw:\n",
    "        if w in header:\n",
    "            cpos += 1\n",
    "    for w in badw:\n",
    "        if w in header:\n",
    "            cneg += 1\n",
    "    mark = cpos - cneg\n",
    "    rid = row[-1]\n",
    "    cur.execute (\"update netdata set wpos=?, wneg=?, mark=? where rowid=?\", (cpos, cneg, mark, rid))\n",
    "    if shown < toshow:\n",
    "#        print (\"update: rowid={5}, dt={4}, header={0}, wpos={1}, wneg={2}, mark={3}\" .format(header, cpos, cneg, mark, dthere, rid))\n",
    "        shown += 1"
   ]
  },
  {
   "cell_type": "code",
   "execution_count": 29,
   "metadata": {
    "collapsed": true
   },
   "outputs": [],
   "source": [
    "conn.commit()"
   ]
  },
  {
   "cell_type": "code",
   "execution_count": 30,
   "metadata": {
    "collapsed": true
   },
   "outputs": [],
   "source": [
    "conn.close()"
   ]
  },
  {
   "cell_type": "code",
   "execution_count": null,
   "metadata": {
    "collapsed": true
   },
   "outputs": [],
   "source": []
  }
 ],
 "metadata": {
  "kernelspec": {
   "display_name": "Python 3",
   "language": "python",
   "name": "python3"
  },
  "language_info": {
   "codemirror_mode": {
    "name": "ipython",
    "version": 3
   },
   "file_extension": ".py",
   "mimetype": "text/x-python",
   "name": "python",
   "nbconvert_exporter": "python",
   "pygments_lexer": "ipython3",
   "version": "3.5.1"
  }
 },
 "nbformat": 4,
 "nbformat_minor": 0
}
